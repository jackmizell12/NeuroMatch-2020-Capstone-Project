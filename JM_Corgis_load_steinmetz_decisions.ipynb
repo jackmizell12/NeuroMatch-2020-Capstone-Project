{
  "nbformat": 4,
  "nbformat_minor": 0,
  "metadata": {
    "colab": {
      "name": "JM_Corgis load_steinmetz_decisions.ipynb",
      "provenance": [],
      "collapsed_sections": [],
      "toc_visible": true,
      "include_colab_link": true
    },
    "kernelspec": {
      "name": "python3",
      "display_name": "Python 3"
    }
  },
  "cells": [
    {
      "cell_type": "markdown",
      "metadata": {
        "id": "view-in-github",
        "colab_type": "text"
      },
      "source": [
        "<a href=\"https://colab.research.google.com/github/jackmizell12/NeuroMatch-2020-Capstone-Project/blob/main/JM_Corgis_load_steinmetz_decisions.ipynb\" target=\"_parent\"><img src=\"https://colab.research.google.com/assets/colab-badge.svg\" alt=\"Open In Colab\"/></a>"
      ]
    },
    {
      "cell_type": "markdown",
      "metadata": {
        "id": "bEqdz1ZUMaj1"
      },
      "source": [
        "## Loading of Steinmetz data\n",
        "\n",
        "includes some visualizations"
      ]
    },
    {
      "cell_type": "code",
      "metadata": {
        "id": "TLWjKq8bLDqm"
      },
      "source": [
        "#@title Data retrieval\n",
        "import os, requests\n",
        "\n",
        "fname = []\n",
        "for j in range(3):\n",
        "  fname.append('steinmetz_part%d.npz'%j)\n",
        "url = [\"https://osf.io/agvxh/download\"]\n",
        "url.append(\"https://osf.io/uv3mw/download\")\n",
        "url.append(\"https://osf.io/ehmw2/download\")\n",
        "\n",
        "for j in range(len(url)):\n",
        "  if not os.path.isfile(fname[j]):\n",
        "    try:\n",
        "      r = requests.get(url[j])\n",
        "    except requests.ConnectionError:\n",
        "      print(\"!!! Failed to download data !!!\")\n",
        "    else:\n",
        "      if r.status_code != requests.codes.ok:\n",
        "        print(\"!!! Failed to download data !!!\")\n",
        "      else:\n",
        "        with open(fname[j], \"wb\") as fid:\n",
        "          fid.write(r.content)\n"
      ],
      "execution_count": null,
      "outputs": []
    },
    {
      "cell_type": "code",
      "metadata": {
        "id": "sffzC_hyLgWZ",
        "colab": {
          "base_uri": "https://localhost:8080/",
          "height": 54
        },
        "outputId": "a4f1c608-e1e5-4a55-cfa7-d556084939dd"
      },
      "source": [
        "#@title Data loading\n",
        "import numpy as np\n",
        "\n",
        "alldat = np.array([])\n",
        "for j in range(len(fname)):\n",
        "  alldat = np.hstack((alldat, np.load('steinmetz_part%d.npz'%j, allow_pickle=True)['dat']))\n",
        "\n",
        "# select just one of the recordings here. 11 is nice because it has some neurons in vis ctx. \n",
        "dat = alldat[11]\n",
        "print(dat.keys())"
      ],
      "execution_count": null,
      "outputs": [
        {
          "output_type": "stream",
          "text": [
            "dict_keys(['spks', 'wheel', 'pupil', 'response', 'response_time', 'bin_size', 'stim_onset', 'contrast_right', 'contrast_left', 'brain_area', 'feedback_time', 'feedback_type', 'gocue', 'mouse_name', 'date_exp', 'trough_to_peak', 'active_trials', 'contrast_left_passive', 'contrast_right_passive', 'spks_passive', 'pupil_passive', 'wheel_passive', 'prev_reward', 'ccf', 'ccf_axes', 'cellid_orig', 'reaction_time', 'face', 'face_passive', 'licks', 'licks_passive'])\n"
          ],
          "name": "stdout"
        }
      ]
    },
    {
      "cell_type": "markdown",
      "metadata": {
        "id": "08FR49bGYOze"
      },
      "source": [
        "# I. Data Prep\n",
        "Remove no-go data and establish lists of session information for later querying"
      ]
    },
    {
      "cell_type": "code",
      "metadata": {
        "id": "m-hl2N23YLst"
      },
      "source": [
        "dat_wo_nogo = [] \n",
        "brainAreas = [] \n",
        "rightContrast = []\n",
        "leftContrast = []\n",
        "responses = []\n",
        "actions = []\n",
        "\n",
        "for i in range(len(alldat)):\n",
        "\n",
        "  # Get spike data per session and remove no-go trials\n",
        "  dat = alldat[i]\n",
        "  trials_wo_nogo = (dat['contrast_right'] > 0) | (dat['contrast_left'] > 0)\n",
        "  dat_wo_nogo.append(dat['spks'][:, trials_wo_nogo, :])\n",
        "\n",
        "  # Get response data per session (correct vs incorrect)\n",
        "  responses.append(dat['feedback_type'][trials_wo_nogo])\n",
        "\n",
        "  # Get brain area per session\n",
        "  brainAreas.append(dat['brain_area'])\n",
        "\n",
        "  # Get contrast level for per side\n",
        "  rightContrast.append(dat['contrast_right'][trials_wo_nogo])\n",
        "  leftContrast.append(dat['contrast_left'][trials_wo_nogo])\n",
        "\n",
        "  # Get mouse action per session (left vs right vs no-go)\n",
        "  actions.append(dat['response'][trials_wo_nogo])"
      ],
      "execution_count": null,
      "outputs": []
    },
    {
      "cell_type": "markdown",
      "metadata": {
        "id": "RJaeTOGcvn-d"
      },
      "source": [
        "-`dat_wo_nogo`: list of spike data for each session without No-Go trials in shape Neurons x Trials x Time Bins\n",
        "\n",
        "-`responses`: list of responses given to the mouse after each trial for each session in length Trials\n",
        "\n",
        "-`brainAreas`: list of brain areas for each session as the location of each recorded neuron (VISp, VISam, MO etc) in length Neurons"
      ]
    },
    {
      "cell_type": "markdown",
      "metadata": {
        "id": "39bXJXf_YzRy"
      },
      "source": [
        "Group specific brain areas (such as VISa and VISam) into more general brain regions (such as the visual cortex) for querying\n"
      ]
    },
    {
      "cell_type": "code",
      "metadata": {
        "id": "XpDKUDU8YtQU"
      },
      "source": [
        "# groupings of brain regions\n",
        "regions = [\"vis ctx\", \"thal\", \"hipp\", \"other ctx\", \"midbrain\", \"basal ganglia\", \"cortical subplate\", \"other\"]\n",
        "brain_groups = [[\"VISa\", \"VISam\", \"VISl\", \"VISp\", \"VISpm\", \"VISrl\"], # visual cortex\n",
        "                [\"CL\", \"LD\", \"LGd\", \"LH\", \"LP\", \"MD\", \"MG\", \"PO\", \"POL\", \"PT\", \"RT\", \"SPF\", \"TH\", \"VAL\", \"VPL\", \"VPM\"], # thalamus\n",
        "                [\"CA\", \"CA1\", \"CA2\", \"CA3\", \"DG\", \"SUB\", \"POST\"], # hippocampal\n",
        "                [\"ACA\", \"AUD\", \"COA\", \"DP\", \"ILA\", \"MOp\", \"MOs\", \"OLF\", \"ORB\", \"ORBm\", \"PIR\", \"PL\", \"SSp\", \"SSs\", \"RSP\",\"TT\"], # non-visual cortex\n",
        "                [\"APN\", \"IC\", \"MB\", \"MRN\", \"NB\", \"PAG\", \"RN\", \"SCs\", \"SCm\", \"SCig\", \"SCsg\", \"ZI\"], # midbrain\n",
        "                [\"ACB\", \"CP\", \"GPe\", \"LS\", \"LSc\", \"LSr\", \"MS\", \"OT\", \"SNr\", \"SI\"], # basal ganglia \n",
        "                [\"BLA\", \"BMA\", \"EP\", \"EPd\", \"MEA\"] # cortical subplate\n",
        "                ]"
      ],
      "execution_count": null,
      "outputs": []
    },
    {
      "cell_type": "code",
      "metadata": {
        "id": "hhivrj-NY1T0"
      },
      "source": [
        "# create a dictionary (map) for each brain location\n",
        "maps = {} \n",
        "for i, r in enumerate(brain_groups): \n",
        "  for b in r: \n",
        "    maps[b] = i # assign each brain location to a number dictated by brain_groups list\n",
        "maps['root'] = 8 # i gave the lil guy a number (8) since he wasn't in brain_groups (makes sense)"
      ],
      "execution_count": null,
      "outputs": []
    },
    {
      "cell_type": "code",
      "metadata": {
        "id": "WVTgm07XY39A"
      },
      "source": [
        "# create a list of brain regions for each session where the visual cortex is 1, thalamus is 2 etc\n",
        "brainRegions = []\n",
        "for i in range(len(brainAreas)):\n",
        "  brainRegions.append(np.array([maps[area] for area in brainAreas[i]])) # apply dictionary established earlier"
      ],
      "execution_count": null,
      "outputs": []
    },
    {
      "cell_type": "markdown",
      "metadata": {
        "id": "aqiu5tU2YnhB"
      },
      "source": [
        "Return sessions that contain recordings from certain brain areas of interest"
      ]
    },
    {
      "cell_type": "code",
      "metadata": {
        "id": "019yQ-eaYdVV",
        "colab": {
          "base_uri": "https://localhost:8080/",
          "height": 34
        },
        "outputId": "0db81e36-0a7c-4fb3-ffa5-9b8888227873"
      },
      "source": [
        "loc_ofInterest = ['VISp', 'CA3'] # which specific brain locations to query for\n",
        "sessions_ofInterest = [] # list of sessions (0-38) including all the locations of interest\n",
        "\n",
        "for sessionNumber, recordingLocations in enumerate(brainAreas):\n",
        "  if all(x in recordingLocations for x in loc_ofInterest):\n",
        "    sessions_ofInterest.append(sessionNumber)\n",
        "\n",
        "sessions_ofInterest"
      ],
      "execution_count": null,
      "outputs": [
        {
          "output_type": "execute_result",
          "data": {
            "text/plain": [
              "[0, 7]"
            ]
          },
          "metadata": {
            "tags": []
          },
          "execution_count": 7
        }
      ]
    },
    {
      "cell_type": "markdown",
      "metadata": {
        "id": "gfXH05PhD5pA"
      },
      "source": [
        "Pull spiking data from all mice and separate by trial type"
      ]
    },
    {
      "cell_type": "code",
      "metadata": {
        "id": "17asjfRoEWH4"
      },
      "source": [
        "rightHit = []\n",
        "rightMiss = []\n",
        "leftHit = []\n",
        "leftMiss = []\n",
        "\n",
        "leftMiss_nogo = []\n",
        "leftMiss_right = []\n",
        "rightMiss_nogo = []\n",
        "rightMiss_left = []\n",
        "\n",
        "for i in range(len(dat_wo_nogo)):\n",
        "\n",
        "  dat = dat_wo_nogo[i]\n",
        "\n",
        "  # Subset trials\n",
        "  rightHit.append(dat[:, (rightContrast[i] > leftContrast[i]) & (responses[i] == 1)])\n",
        "  rightMiss.append(dat[:, (rightContrast[i] > leftContrast[i]) & (responses[i] == -1)])\n",
        "  leftHit.append(dat[:, (rightContrast[i] < leftContrast[i]) & (responses[i] == 1)])\n",
        "  leftMiss.append(dat[:, (rightContrast[i] < leftContrast[i]) & (responses[i] == -1)])\n",
        "\n",
        "  leftMiss_nogo.append(dat[:, (rightContrast[i] < leftContrast[i]) & (actions[i] == 0)])\n",
        "  leftMiss_right.append(dat[:, (rightContrast[i] < leftContrast[i]) & (actions[i] == -1)])\n",
        "  rightMiss_nogo.append(dat[:, (rightContrast[i] > leftContrast[i]) & (actions[i] == 0)])\n",
        "  rightMiss_left.append(dat[:, (rightContrast[i] > leftContrast[i]) & (actions[i] == 1)])"
      ],
      "execution_count": null,
      "outputs": []
    },
    {
      "cell_type": "markdown",
      "metadata": {
        "id": "2DBGumL61Bx8"
      },
      "source": [
        "Which sessions contain data from the visual cortex, forebrain, and midbrain? "
      ]
    },
    {
      "cell_type": "code",
      "metadata": {
        "id": "zJQ-VW6nykm7",
        "colab": {
          "base_uri": "https://localhost:8080/",
          "height": 34
        },
        "outputId": "0fbdb2cf-0f1d-4b8b-b750-f8f8763021f4"
      },
      "source": [
        "sessions_w_visForeMid = []\n",
        "visForeMid=[0,3,4] #index for vis, mid, forebrain in the brainRegions\n",
        "for i in range(len(brainRegions)):\n",
        "  if all(x in brainRegions[i] for x in visForeMid):\n",
        "    sessions_w_visForeMid.append(i)\n",
        "\n",
        "sessions_w_visForeMid"
      ],
      "execution_count": null,
      "outputs": [
        {
          "output_type": "execute_result",
          "data": {
            "text/plain": [
              "[12, 13, 21, 23, 24, 25, 27, 35, 36]"
            ]
          },
          "metadata": {
            "tags": []
          },
          "execution_count": 9
        }
      ]
    },
    {
      "cell_type": "markdown",
      "metadata": {
        "id": "ZlLGLSNsZHa_"
      },
      "source": [
        "# II. Analysis"
      ]
    },
    {
      "cell_type": "markdown",
      "metadata": {
        "id": "MPFL4kTelkJw"
      },
      "source": [
        "How many neurons are in the visual cortex, forebrain, and midbrain regions per session?"
      ]
    },
    {
      "cell_type": "code",
      "metadata": {
        "id": "z80HCGoCixix"
      },
      "source": [
        "visN = []\n",
        "for session in sessions_w_visForeMid:\n",
        "  visN.append(np.sum(brainRegions[session] == 0))\n",
        "\n",
        "foreN = []\n",
        "for session in sessions_w_visForeMid:\n",
        "  foreN.append(np.sum(brainRegions[session] == 3))\n",
        "\n",
        "midN = []\n",
        "for session in sessions_w_visForeMid:\n",
        "  midN.append(np.sum(brainRegions[session] == 4))"
      ],
      "execution_count": null,
      "outputs": []
    },
    {
      "cell_type": "code",
      "metadata": {
        "id": "QQGT54RwjM8p",
        "colab": {
          "base_uri": "https://localhost:8080/",
          "height": 359
        },
        "outputId": "18f3f082-1d9b-4d2d-e5ae-30403a4bc4c5"
      },
      "source": [
        "import pandas as pd\n",
        "\n",
        "neuronCounts = pd.DataFrame({\"session\": sessions_w_visForeMid, \"visual cortex count\": visN, \"forebrain count\": foreN, \"midbrain count\": midN})\n",
        "neuronCounts.set_index('session', inplace=True)\n",
        "neuronCounts"
      ],
      "execution_count": null,
      "outputs": [
        {
          "output_type": "execute_result",
          "data": {
            "text/html": [
              "<div>\n",
              "<style scoped>\n",
              "    .dataframe tbody tr th:only-of-type {\n",
              "        vertical-align: middle;\n",
              "    }\n",
              "\n",
              "    .dataframe tbody tr th {\n",
              "        vertical-align: top;\n",
              "    }\n",
              "\n",
              "    .dataframe thead th {\n",
              "        text-align: right;\n",
              "    }\n",
              "</style>\n",
              "<table border=\"1\" class=\"dataframe\">\n",
              "  <thead>\n",
              "    <tr style=\"text-align: right;\">\n",
              "      <th></th>\n",
              "      <th>visual cortex count</th>\n",
              "      <th>forebrain count</th>\n",
              "      <th>midbrain count</th>\n",
              "    </tr>\n",
              "    <tr>\n",
              "      <th>session</th>\n",
              "      <th></th>\n",
              "      <th></th>\n",
              "      <th></th>\n",
              "    </tr>\n",
              "  </thead>\n",
              "  <tbody>\n",
              "    <tr>\n",
              "      <th>12</th>\n",
              "      <td>34</td>\n",
              "      <td>288</td>\n",
              "      <td>264</td>\n",
              "    </tr>\n",
              "    <tr>\n",
              "      <th>13</th>\n",
              "      <td>42</td>\n",
              "      <td>441</td>\n",
              "      <td>171</td>\n",
              "    </tr>\n",
              "    <tr>\n",
              "      <th>21</th>\n",
              "      <td>133</td>\n",
              "      <td>237</td>\n",
              "      <td>184</td>\n",
              "    </tr>\n",
              "    <tr>\n",
              "      <th>23</th>\n",
              "      <td>296</td>\n",
              "      <td>181</td>\n",
              "      <td>530</td>\n",
              "    </tr>\n",
              "    <tr>\n",
              "      <th>24</th>\n",
              "      <td>94</td>\n",
              "      <td>375</td>\n",
              "      <td>404</td>\n",
              "    </tr>\n",
              "    <tr>\n",
              "      <th>25</th>\n",
              "      <td>162</td>\n",
              "      <td>166</td>\n",
              "      <td>407</td>\n",
              "    </tr>\n",
              "    <tr>\n",
              "      <th>27</th>\n",
              "      <td>71</td>\n",
              "      <td>135</td>\n",
              "      <td>206</td>\n",
              "    </tr>\n",
              "    <tr>\n",
              "      <th>35</th>\n",
              "      <td>53</td>\n",
              "      <td>162</td>\n",
              "      <td>168</td>\n",
              "    </tr>\n",
              "    <tr>\n",
              "      <th>36</th>\n",
              "      <td>77</td>\n",
              "      <td>415</td>\n",
              "      <td>535</td>\n",
              "    </tr>\n",
              "  </tbody>\n",
              "</table>\n",
              "</div>"
            ],
            "text/plain": [
              "         visual cortex count  forebrain count  midbrain count\n",
              "session                                                      \n",
              "12                        34              288             264\n",
              "13                        42              441             171\n",
              "21                       133              237             184\n",
              "23                       296              181             530\n",
              "24                        94              375             404\n",
              "25                       162              166             407\n",
              "27                        71              135             206\n",
              "35                        53              162             168\n",
              "36                        77              415             535"
            ]
          },
          "metadata": {
            "tags": []
          },
          "execution_count": 11
        }
      ]
    },
    {
      "cell_type": "markdown",
      "metadata": {
        "id": "CB9BDg-KmKcK"
      },
      "source": [
        "We want to run PCAs on spiking data for neurons in the visual cortex, forebrain, and midbrain."
      ]
    },
    {
      "cell_type": "code",
      "metadata": {
        "id": "JScE4v6wDdXY"
      },
      "source": [
        "visForeMid = [0, 3, 4] # indeces for visual, forebrain (sans vis), and midbrain respectively\n",
        "visFore = [0, 3]\n",
        "visMid = [0, 4]\n",
        "foreMid = [3, 4]\n",
        "vis = [0]\n",
        "fore = [3]\n",
        "mid = [4]\n",
        "\n",
        "trialTypes = [rightHit, rightMiss, leftHit, leftMiss]"
      ],
      "execution_count": null,
      "outputs": []
    },
    {
      "cell_type": "markdown",
      "metadata": {
        "id": "94PgWyMikaX1"
      },
      "source": [
        "### PCA Functions"
      ]
    },
    {
      "cell_type": "code",
      "metadata": {
        "id": "4nO788q9Zx-D"
      },
      "source": [
        "def get_dat_mult_regions(session, trialType, regions, time = 51:75):\n",
        "  '''\n",
        "  Stacked spike data from multiple regions of interest for the same mouse for use in PCA.\n",
        "\n",
        "  Inputs:\n",
        "  session (int): index that corresponds to session number\n",
        "  trialType: rightHit, rightMiss, leftHit, leftMiss\n",
        "  regions: visForeMid, visFore, visMid, foreMid\n",
        "\n",
        "  Output:\n",
        "  dataStack (array): spike data\n",
        "  '''\n",
        "\n",
        "  data = []\n",
        "\n",
        "  for j in range(len(regions)):\n",
        "    data.append(trialType[session][:, :, time][brainRegions[session] == regions[j]])\n",
        "\n",
        "  dataStack = np.vstack(data)\n",
        "\n",
        "  return dataStack"
      ],
      "execution_count": null,
      "outputs": []
    },
    {
      "cell_type": "code",
      "metadata": {
        "id": "OI2a_TaXSieg"
      },
      "source": [
        "from sklearn.decomposition import PCA\n",
        "\n",
        "def generatePCA(session, regions = None, varThreshold = 0.95, single_region = False, structure = None):\n",
        "  '''\n",
        "  Inputs:\n",
        "  session (int):        index that corresponds to session number\n",
        "  regions (var):        visForeMid, visFore, visMid, foreMid\n",
        "  varThreshold (float): desired cumulative percent of variance explained\n",
        "  single_region (bool): set to true if comparing structures within a single region\n",
        "  structure (var):      if single_region == True, set structure = structure\n",
        "                          and loop through structures in desired cortical region\n",
        "\n",
        "  Outputs:\n",
        "  Each list outputs data for rightHit, rightMiss, leftHit, and leftMiss respectively\n",
        "  numComp (list):       number of components needed to explain up to varThreshold\n",
        "  percent (list):       percent of components needed to explain up to varThreshold\n",
        "  components (list):    components matrix\n",
        "  '''\n",
        "  n_comp = []\n",
        "  percent = [] \n",
        "  components = []\n",
        "\n",
        "  for trial in trialTypes:\n",
        "    if single_region:\n",
        "      dat = trial[session][brainAreas[session] == structure]\n",
        "\n",
        "    else:\n",
        "      dat = get_dat_mult_regions(session, trial, regions)\n",
        "\n",
        "    # prep for PCA by reshaping into a 2D matrix and centering the data\n",
        "    dat_reshape = np.reshape(dat, (len(dat), -1))\n",
        "    dat_meaned = dat_reshape - np.mean(dat_reshape)\n",
        "\n",
        "    # fit PCA \n",
        "    pca_model = PCA()\n",
        "    pca_model.fit(dat_meaned.T)\n",
        "\n",
        "    # how many components were needed to explain 90% of the variance in the data?\n",
        "    preExplVar = pca_model.explained_variance_ratio_ \n",
        "    explVar = np.cumsum(preExplVar)\n",
        "\n",
        "    numComponents = np.sum(explVar <= varThreshold)\n",
        "    n_comp.append(numComponents)\n",
        "\n",
        "    # how does this compare to the total number of components? \n",
        "    percentOfTotal = numComponents / len(dat)\n",
        "    percent.append(percentOfTotal)\n",
        "\n",
        "    # save principal components (organized by highest explained var to least)\n",
        "    W = pca_model.components_\n",
        "    components.append(W)\n",
        "\n",
        "  return n_comp, percent, components"
      ],
      "execution_count": null,
      "outputs": []
    },
    {
      "cell_type": "markdown",
      "metadata": {
        "id": "uQJIGc-hynUk"
      },
      "source": [
        "# III. Visualize Results"
      ]
    },
    {
      "cell_type": "markdown",
      "metadata": {
        "id": "8HEAgo_yDMAg"
      },
      "source": [
        "## Plotting Functions"
      ]
    },
    {
      "cell_type": "code",
      "metadata": {
        "id": "GSwptoYdU7ba"
      },
      "source": [
        "import matplotlib.pyplot as plt\n",
        "import matplotlib.ticker as mtick\n",
        "from matplotlib.ticker import PercentFormatter "
      ],
      "execution_count": null,
      "outputs": []
    },
    {
      "cell_type": "code",
      "metadata": {
        "id": "T066GXCveBko"
      },
      "source": [
        "def autolabel(rects, ax):\n",
        "    \"\"\"Attach a text label above each bar in *rects*, displaying its height.\"\"\"\n",
        "    for rect in rects:\n",
        "        height = rect.get_height()\n",
        "        ax.annotate('{0:.1%}'.format(height),\n",
        "                    xy=(rect.get_x() + rect.get_width() / 2, height),\n",
        "                    xytext=(0, -15),  # 3 points vertical offset\n",
        "                    textcoords=\"offset points\", color = 'w',\n",
        "                    ha='center', va='bottom')"
      ],
      "execution_count": null,
      "outputs": []
    },
    {
      "cell_type": "code",
      "metadata": {
        "id": "gRTsVmzcXkip"
      },
      "source": [
        "def plotPrelimFig(percent, title = \"\"):\n",
        "  trials = [\"right hit\", \"right miss\", \"left hit\", \"left miss\"]\n",
        "\n",
        "  x = np.arange(len(trials))\n",
        "  fig, ax = plt.subplots()\n",
        "  rects = plt.bar(x, percent)\n",
        "  plt.xticks(x, labels = trials)\n",
        "  plt.ylim(0, .75)\n",
        "  plt.yticks([])\n",
        "  plt.title(title)\n",
        "\n",
        "  autolabel(rects, ax)"
      ],
      "execution_count": null,
      "outputs": []
    },
    {
      "cell_type": "code",
      "metadata": {
        "id": "SthF2LQUfJf5"
      },
      "source": [
        "def plotPrelimFig_single(session, region_num, percentList, title = \"\"):\n",
        "\n",
        "  # get list of structures within a chosen region\n",
        "  structures = np.unique(brainAreas[session][brainRegions[session] == region_num])\n",
        "\n",
        "  # establish trials to loop through\n",
        "  trials = [\"right hit\", \"right miss\", \"left hit\", \"left miss\"]\n",
        "\n",
        "  # set up subplots\n",
        "  x = np.arange(len(trials))\n",
        "  height = [] # need to do: list of fraction of components for each structure\n",
        "\n",
        "  fig, ax = plt.subplots(ncols = len(structures), sharex=True, sharey=True, figsize=(15, 5))\n",
        "  fig.suptitle(title)\n",
        "  for i in range(len(structures)):\n",
        "    rects = ax[i].bar(x, percentList[i])\n",
        "    ax[i].set_title(structures[i])\n",
        "    ax[i].set_xticks(x)\n",
        "    ax[i].set_xticklabels(trials)\n",
        "    ax[i].set_yticks([])\n",
        "    autolabel(rects, ax[i])"
      ],
      "execution_count": null,
      "outputs": []
    },
    {
      "cell_type": "code",
      "metadata": {
        "id": "hL4XvDyTBgwX"
      },
      "source": [
        "def getData_splitMiss(regions):\n",
        "  perc = []\n",
        "\n",
        "  for session in sessions_w_visForeMid[:-1]:\n",
        "    n_comp, percent, _ = generatePCA(session, regions = regions)\n",
        "    perc.append(percent)\n",
        "    \n",
        "  df = pd.DataFrame(perc)\n",
        "  percent_meaned = list(df.mean(axis = 0))\n",
        "\n",
        "  return percent_meaned, df"
      ],
      "execution_count": null,
      "outputs": []
    },
    {
      "cell_type": "code",
      "metadata": {
        "id": "LVineNvQ6sTt"
      },
      "source": [
        "def plot_splitMiss(percent_meaned, title = \"\"):\n",
        "\n",
        "  trials = ['rightHit', 'rightMiss_left', 'rightMiss_nogo', 'leftHit', 'leftMiss_right', 'leftMiss_nogo']\n",
        "  x = np.arange(len(trials))\n",
        "  fig, ax = plt.subplots()\n",
        "  rects = plt.bar(x, percent_meaned)\n",
        "  plt.xticks(x, labels = trials, rotation = 60)\n",
        "  plt.ylim(0, .75)\n",
        "  plt.yticks([])\n",
        "  plt.title(title)\n",
        "\n",
        "  autolabel(rects, ax)"
      ],
      "execution_count": null,
      "outputs": []
    },
    {
      "cell_type": "markdown",
      "metadata": {
        "id": "WDP9Ti2IDR8S"
      },
      "source": [
        "## Visualize differences in the percent of components needed to reach a preset variance threshold for all trial types. \n",
        "**Step 1** Obtain PCA values with `generatePCA`\n",
        "\n",
        "**Step 2** Plot data using `plotPrelimFig` or `plotPrelimFig_single`"
      ]
    },
    {
      "cell_type": "markdown",
      "metadata": {
        "id": "LAvslBabc8Z4"
      },
      "source": [
        "1. PCA for individual structures in a single cortical region"
      ]
    },
    {
      "cell_type": "code",
      "metadata": {
        "id": "rL9hS-WyAf4_"
      },
      "source": [
        "# initialize \n",
        "session = 23\n",
        "region_num = 4\n",
        "\n",
        "structures = np.unique(brainAreas[session][brainRegions[session]==region_num])\n",
        "structures\n",
        "\n",
        "percentList = [] # list of percents for each structure\n",
        "\n",
        "for structure in structures:\n",
        "  n_comp, percent, components = generatePCA(23, single_region=True, structure = structure)\n",
        "  percentList.append(percent)\n"
      ],
      "execution_count": null,
      "outputs": []
    },
    {
      "cell_type": "markdown",
      "metadata": {
        "id": "pkiBPk22e775"
      },
      "source": [
        "2. Plot data"
      ]
    },
    {
      "cell_type": "code",
      "metadata": {
        "id": "c-GK75dRe_Le",
        "colab": {
          "base_uri": "https://localhost:8080/",
          "height": 356
        },
        "outputId": "d465b887-75e5-488b-fa0c-802d8e9ba857"
      },
      "source": [
        "plotPrelimFig_single(session = 23, region_num = 4, percentList = percentList)"
      ],
      "execution_count": null,
      "outputs": [
        {
          "output_type": "display_data",
          "data": {
            "image/png": "[encoded data removed]",
            "text/plain": [
              "<Figure size 1080x360 with 3 Axes>"
            ]
          },
          "metadata": {
            "tags": [],
            "needs_background": "light"
          }
        }
      ]
    },
    {
      "cell_type": "code",
      "metadata": {
        "id": "SsSWn2LlIY6G",
        "colab": {
          "base_uri": "https://localhost:8080/",
          "height": 356
        },
        "outputId": "8408e4d1-5414-46b1-a2a9-5ac33dfffe41"
      },
      "source": [
        "# initialize \n",
        "session = 23\n",
        "region_num = 0\n",
        "\n",
        "structures = np.unique(brainAreas[session][brainRegions[session]==region_num])\n",
        "structures\n",
        "\n",
        "percentList = [] # list of percents for each structure\n",
        "\n",
        "for structure in structures:\n",
        "  n_comp, percent, components = generatePCA(23, single_region=True, structure = structure)\n",
        "  percentList.append(percent)\n",
        "\n",
        "plotPrelimFig_single(session = 23, region_num = 0, percentList = percentList, title = 'visual cortex')"
      ],
      "execution_count": null,
      "outputs": [
        {
          "output_type": "display_data",
          "data": {
            "image/png": "[encoded data removed]",
            "text/plain": [
              "<Figure size 1080x360 with 2 Axes>"
            ]
          },
          "metadata": {
            "tags": [],
            "needs_background": "light"
          }
        }
      ]
    },
    {
      "cell_type": "markdown",
      "metadata": {
        "id": "DYmT9D9IeRgJ"
      },
      "source": [
        "1. PCA over a whole cortical region(s)"
      ]
    },
    {
      "cell_type": "code",
      "metadata": {
        "id": "ivOqII5R7xMF"
      },
      "source": [
        "n_comp, percent, _ = generatePCA(12, regions = foreMid)"
      ],
      "execution_count": null,
      "outputs": []
    },
    {
      "cell_type": "markdown",
      "metadata": {
        "id": "8Tt8vURLgUk7"
      },
      "source": [
        "2. Plot data"
      ]
    },
    {
      "cell_type": "code",
      "metadata": {
        "id": "m2u4JcJVgThd",
        "colab": {
          "base_uri": "https://localhost:8080/",
          "height": 281
        },
        "outputId": "517e8082-5e39-44e3-d5a0-2d9f01729d20"
      },
      "source": [
        "plotPrelimFig(percent, title = \"Midbrain and Forebrain\")"
      ],
      "execution_count": null,
      "outputs": [
        {
          "output_type": "display_data",
          "data": {
            "image/png": "[encoded data removed]",
            "text/plain": [
              "<Figure size 432x288 with 1 Axes>"
            ]
          },
          "metadata": {
            "tags": [],
            "needs_background": "light"
          }
        }
      ]
    },
    {
      "cell_type": "markdown",
      "metadata": {
        "id": "awM1d_eZEDjD"
      },
      "source": [
        "## Merge data for all sessions"
      ]
    },
    {
      "cell_type": "code",
      "metadata": {
        "id": "V7Du7Kx7M8MN",
        "colab": {
          "base_uri": "https://localhost:8080/",
          "height": 71
        },
        "outputId": "d199dc68-ca0f-4feb-e55e-e340a3fa13f9"
      },
      "source": [
        "import statsmodels.api as sm\n",
        "from statsmodels.formula.api import ols\n",
        "import seaborn as sns"
      ],
      "execution_count": null,
      "outputs": [
        {
          "output_type": "stream",
          "text": [
            "/usr/local/lib/python3.6/dist-packages/statsmodels/tools/_testing.py:19: FutureWarning: pandas.util.testing is deprecated. Use the functions in the public API at pandas.testing instead.\n",
            "  import pandas.util.testing as tm\n"
          ],
          "name": "stderr"
        }
      ]
    },
    {
      "cell_type": "code",
      "metadata": {
        "id": "0OEe3bPd8AMP"
      },
      "source": [
        "comp = []\n",
        "perc = []\n",
        "\n",
        "for sesh in sessions_w_visForeMid:\n",
        "  n_comp, percent, _ = generatePCA(sesh, mid)\n",
        "  comp.append(n_comp)\n",
        "  perc.append(percent)\n",
        "\n",
        "df = pd.DataFrame(perc)\n",
        "df = df.T\n",
        "df['side'] = [\"left\", \"left\", \"right\", \"right\"]\n",
        "df['hits'] = ['hit', 'miss', 'hit', 'miss']\n",
        "\n",
        "value = pd.melt(df, id_vars = ['side', 'hits'])"
      ],
      "execution_count": null,
      "outputs": []
    },
    {
      "cell_type": "code",
      "metadata": {
        "id": "FSV9nQ_rENrc",
        "colab": {
          "base_uri": "https://localhost:8080/",
          "height": 281
        },
        "outputId": "880cdfb4-06eb-4ee9-e85e-0f4542db9fd7"
      },
      "source": [
        "# get the average percent of components needed for all trials\n",
        "plotPrelimFig(df.mean(axis = 1), title = \"VisForeMid all sessions averaged\")"
      ],
      "execution_count": null,
      "outputs": [
        {
          "output_type": "display_data",
          "data": {
            "image/png": "[encoded data removed]",
            "text/plain": [
              "<Figure size 432x288 with 1 Axes>"
            ]
          },
          "metadata": {
            "tags": [],
            "needs_background": "light"
          }
        }
      ]
    },
    {
      "cell_type": "code",
      "metadata": {
        "id": "UdzMD2v62LSr"
      },
      "source": [
        "trialTypes = [rightHit, rightMiss_left, rightMiss_nogo, leftHit, leftMiss_right, leftMiss_nogo]"
      ],
      "execution_count": null,
      "outputs": []
    },
    {
      "cell_type": "code",
      "metadata": {
        "id": "a3GB7sK8IhSH"
      },
      "source": [
        "def prepANOVA_splitMiss(df):\n",
        "  df = df.T\n",
        "  df['side'] = ['right', 'right', 'right', 'left', 'left', 'left']\n",
        "  df['hits'] = ['hit', 'miss_wrongSide', 'miss_nogo', 'hit', 'miss_wrongSide', 'miss_nogo']\n",
        "  value = pd.melt(df, id_vars = ['side', 'hits'])\n",
        "\n",
        "  return value"
      ],
      "execution_count": null,
      "outputs": []
    },
    {
      "cell_type": "code",
      "metadata": {
        "id": "293LDNorJqWg"
      },
      "source": [
        "def createANOVA(value):\n",
        "  # Ordinary Least Squares (OLS) model\n",
        "  # C(Hits):C(Side) represent interaction term\n",
        "  model = ols('value ~ C(hits) + C(side) + C(hits):C(side)', data=value).fit()\n",
        "  anova_tablem = sm.stats.anova_lm(model, typ=2)\n",
        "\n",
        "  return anova_tablem"
      ],
      "execution_count": null,
      "outputs": []
    },
    {
      "cell_type": "code",
      "metadata": {
        "id": "V7wdSeqRLSXr"
      },
      "source": [
        "def plotBoxplot(value, title = \"\"):\n",
        "  sns.set(style=\"ticks\", color_codes=True)\n",
        "  m = sns.catplot(x=\"hits\", y=\"value\", hue=\"side\", kind=\"box\", data=value);\n",
        "  m.set_axis_labels(\"Response\",\"Linear Dimensionality Normalized Across Sessions\")"
      ],
      "execution_count": null,
      "outputs": []
    },
    {
      "cell_type": "code",
      "metadata": {
        "id": "r30Ti5HXGNn_",
        "colab": {
          "base_uri": "https://localhost:8080/",
          "height": 368
        },
        "outputId": "332c5400-2cd9-4500-9890-fcda7fc4235e"
      },
      "source": [
        "perc, df = getData_splitMiss(mid)\n",
        "value = prepANOVA_splitMiss(df)\n",
        "plotBoxplot(value)"
      ],
      "execution_count": null,
      "outputs": [
        {
          "output_type": "display_data",
          "data": {
            "image/png": "[encoded data removed]",
            "text/plain": [
              "<Figure size 425.725x360 with 1 Axes>"
            ]
          },
          "metadata": {
            "tags": []
          }
        }
      ]
    },
    {
      "cell_type": "code",
      "metadata": {
        "id": "PxyddFxGSBuW",
        "colab": {
          "base_uri": "https://localhost:8080/",
          "height": 173
        },
        "outputId": "31adc3cd-b636-4107-ee73-8be58863d5bc"
      },
      "source": [
        "createANOVA(value)"
      ],
      "execution_count": null,
      "outputs": [
        {
          "output_type": "execute_result",
          "data": {
            "text/html": [
              "<div>\n",
              "<style scoped>\n",
              "    .dataframe tbody tr th:only-of-type {\n",
              "        vertical-align: middle;\n",
              "    }\n",
              "\n",
              "    .dataframe tbody tr th {\n",
              "        vertical-align: top;\n",
              "    }\n",
              "\n",
              "    .dataframe thead th {\n",
              "        text-align: right;\n",
              "    }\n",
              "</style>\n",
              "<table border=\"1\" class=\"dataframe\">\n",
              "  <thead>\n",
              "    <tr style=\"text-align: right;\">\n",
              "      <th></th>\n",
              "      <th>sum_sq</th>\n",
              "      <th>df</th>\n",
              "      <th>F</th>\n",
              "      <th>PR(&gt;F)</th>\n",
              "    </tr>\n",
              "  </thead>\n",
              "  <tbody>\n",
              "    <tr>\n",
              "      <th>C(hits)</th>\n",
              "      <td>0.653648</td>\n",
              "      <td>2.0</td>\n",
              "      <td>17.621145</td>\n",
              "      <td>0.000003</td>\n",
              "    </tr>\n",
              "    <tr>\n",
              "      <th>C(side)</th>\n",
              "      <td>0.000763</td>\n",
              "      <td>1.0</td>\n",
              "      <td>0.041156</td>\n",
              "      <td>0.840217</td>\n",
              "    </tr>\n",
              "    <tr>\n",
              "      <th>C(hits):C(side)</th>\n",
              "      <td>0.053933</td>\n",
              "      <td>2.0</td>\n",
              "      <td>1.453922</td>\n",
              "      <td>0.245171</td>\n",
              "    </tr>\n",
              "    <tr>\n",
              "      <th>Residual</th>\n",
              "      <td>0.778985</td>\n",
              "      <td>42.0</td>\n",
              "      <td>NaN</td>\n",
              "      <td>NaN</td>\n",
              "    </tr>\n",
              "  </tbody>\n",
              "</table>\n",
              "</div>"
            ],
            "text/plain": [
              "                   sum_sq    df          F    PR(>F)\n",
              "C(hits)          0.653648   2.0  17.621145  0.000003\n",
              "C(side)          0.000763   1.0   0.041156  0.840217\n",
              "C(hits):C(side)  0.053933   2.0   1.453922  0.245171\n",
              "Residual         0.778985  42.0        NaN       NaN"
            ]
          },
          "metadata": {
            "tags": []
          },
          "execution_count": 83
        }
      ]
    },
    {
      "cell_type": "code",
      "metadata": {
        "id": "lQ9BLKZENnjJ",
        "colab": {
          "base_uri": "https://localhost:8080/",
          "height": 368
        },
        "outputId": "6090835f-1695-4a58-d06c-ddb7d20a35d3"
      },
      "source": [
        "plotBoxplot(value)"
      ],
      "execution_count": null,
      "outputs": [
        {
          "output_type": "display_data",
          "data": {
            "image/png": "[encoded data removed]",
            "text/plain": [
              "<Figure size 425.725x360 with 1 Axes>"
            ]
          },
          "metadata": {
            "tags": []
          }
        }
      ]
    },
    {
      "cell_type": "code",
      "metadata": {
        "id": "i-sANUc5DsbV",
        "colab": {
          "base_uri": "https://localhost:8080/",
          "height": 351
        },
        "outputId": "fdb07069-2018-475e-c752-37bcb7548e02"
      },
      "source": [
        "perc, df = getData_splitMiss(vis)\n",
        "plot_splitMiss(perc, \"visual cortex\")"
      ],
      "execution_count": null,
      "outputs": [
        {
          "output_type": "display_data",
          "data": {
            "image/png": "[encoded data removed]",
            "text/plain": [
              "<Figure size 432x288 with 1 Axes>"
            ]
          },
          "metadata": {
            "tags": []
          }
        }
      ]
    },
    {
      "cell_type": "code",
      "metadata": {
        "id": "Fqm0HbicN9fU",
        "colab": {
          "base_uri": "https://localhost:8080/",
          "height": 368
        },
        "outputId": "1045e66b-678a-4bd1-87fb-12be751c3ff4"
      },
      "source": [
        "value = prepANOVA_splitMiss(df)\n",
        "plotBoxplot(value)"
      ],
      "execution_count": null,
      "outputs": [
        {
          "output_type": "display_data",
          "data": {
            "image/png": "[encoded data removed]",
            "text/plain": [
              "<Figure size 425.725x360 with 1 Axes>"
            ]
          },
          "metadata": {
            "tags": []
          }
        }
      ]
    },
    {
      "cell_type": "code",
      "metadata": {
        "id": "63HPSW4rEHxH",
        "colab": {
          "base_uri": "https://localhost:8080/",
          "height": 351
        },
        "outputId": "b1433511-a9b8-454c-8aa7-196d2c9468f5"
      },
      "source": [
        "perc, df = getData_splitMiss(fore)\n",
        "plot_splitMiss(perc, \"forebrain\")"
      ],
      "execution_count": null,
      "outputs": [
        {
          "output_type": "display_data",
          "data": {
            "image/png": "[encoded data removed]",
            "text/plain": [
              "<Figure size 432x288 with 1 Axes>"
            ]
          },
          "metadata": {
            "tags": []
          }
        }
      ]
    },
    {
      "cell_type": "code",
      "metadata": {
        "id": "4YXRDbRHPmYp",
        "colab": {
          "base_uri": "https://localhost:8080/",
          "height": 368
        },
        "outputId": "985541ff-341e-47b1-f278-4ddd7cc2e23a"
      },
      "source": [
        "value = prepANOVA_splitMiss(df)\n",
        "plotBoxplot(value)"
      ],
      "execution_count": null,
      "outputs": [
        {
          "output_type": "display_data",
          "data": {
            "image/png": "[encoded data removed]",
            "text/plain": [
              "<Figure size 425.725x360 with 1 Axes>"
            ]
          },
          "metadata": {
            "tags": []
          }
        }
      ]
    },
    {
      "cell_type": "code",
      "metadata": {
        "id": "w1j0f5b9Lg8E",
        "colab": {
          "base_uri": "https://localhost:8080/",
          "height": 385
        },
        "outputId": "cdf3c03d-0baa-45da-b389-d743b640683a"
      },
      "source": [
        "# plot data for mid\n",
        "import seaborn as sns\n",
        "import matplotlib.pyplot as plt\n",
        "sns.set(style=\"ticks\", color_codes=True)\n",
        "m = sns.catplot(x=\"hits\", y=\"value\", hue=\"side\", kind=\"box\", data=value);\n",
        "m.set_axis_labels(\"Response\",\"Linear Dimensionality Normalized Across Sessions\")"
      ],
      "execution_count": null,
      "outputs": [
        {
          "output_type": "execute_result",
          "data": {
            "text/plain": [
              "<seaborn.axisgrid.FacetGrid at 0x7f00c62bd080>"
            ]
          },
          "metadata": {
            "tags": []
          },
          "execution_count": 29
        },
        {
          "output_type": "display_data",
          "data": {
            "image/png": "[encoded data removed]",
            "text/plain": [
              "<Figure size 425.725x360 with 1 Axes>"
            ]
          },
          "metadata": {
            "tags": []
          }
        }
      ]
    },
    {
      "cell_type": "code",
      "metadata": {
        "id": "ufXvxqk7Pmc9",
        "colab": {
          "base_uri": "https://localhost:8080/",
          "height": 460
        },
        "outputId": "078b596a-7654-41b5-9c25-449ed7711875"
      },
      "source": [
        "# anova and plot for forebrain\n",
        "comp = []\n",
        "perc = []\n",
        "\n",
        "for sesh in sessions_w_visForeMid:\n",
        "  n_comp, percent, _ = generatePCA(sesh, fore)\n",
        "  comp.append(n_comp)\n",
        "  perc.append(percent)\n",
        "\n",
        "df = pd.DataFrame(perc)\n",
        "df = df.T\n",
        "df['side'] = [\"left\", \"left\", \"left\", \"right\", \"right\", \"right\"]\n",
        "df['hits'] = ['hit', 'miss', 'hit', 'miss', \"hit\", \"miss\"]\n",
        "\n",
        "value = pd.melt(df, id_vars = ['side', 'hits'])\n",
        "#value\n",
        "\n",
        "# Ordinary Least Squares (OLS) model\n",
        "# C(Hits):C(Side) represent interaction term\n",
        "model = ols('value ~ C(hits) + C(side) + C(hits):C(side)', data=value).fit()\n",
        "anova_tablef = sm.stats.anova_lm(model, typ=2)\n",
        "anova_tablef\n"
      ],
      "execution_count": null,
      "outputs": [
        {
          "output_type": "stream",
          "text": [
            "/usr/local/lib/python3.6/dist-packages/numpy/core/fromnumeric.py:3335: RuntimeWarning: Mean of empty slice.\n",
            "  out=out, **kwargs)\n",
            "/usr/local/lib/python3.6/dist-packages/numpy/core/_methods.py:161: RuntimeWarning: invalid value encountered in double_scalars\n",
            "  ret = ret.dtype.type(ret / rcount)\n"
          ],
          "name": "stderr"
        },
        {
          "output_type": "error",
          "ename": "ValueError",
          "evalue": "ignored",
          "traceback": [
            "\u001b[0;31m---------------------------------------------------------------------------\u001b[0m",
            "\u001b[0;31mValueError\u001b[0m                                Traceback (most recent call last)",
            "\u001b[0;32m<ipython-input-31-4ff251e9c8ab>\u001b[0m in \u001b[0;36m<module>\u001b[0;34m()\u001b[0m\n\u001b[1;32m      4\u001b[0m \u001b[0;34m\u001b[0m\u001b[0m\n\u001b[1;32m      5\u001b[0m \u001b[0;32mfor\u001b[0m \u001b[0msesh\u001b[0m \u001b[0;32min\u001b[0m \u001b[0msessions_w_visForeMid\u001b[0m\u001b[0;34m:\u001b[0m\u001b[0;34m\u001b[0m\u001b[0;34m\u001b[0m\u001b[0m\n\u001b[0;32m----> 6\u001b[0;31m   \u001b[0mn_comp\u001b[0m\u001b[0;34m,\u001b[0m \u001b[0mpercent\u001b[0m\u001b[0;34m,\u001b[0m \u001b[0m_\u001b[0m \u001b[0;34m=\u001b[0m \u001b[0mgeneratePCA\u001b[0m\u001b[0;34m(\u001b[0m\u001b[0msesh\u001b[0m\u001b[0;34m,\u001b[0m \u001b[0mfore\u001b[0m\u001b[0;34m)\u001b[0m\u001b[0;34m\u001b[0m\u001b[0;34m\u001b[0m\u001b[0m\n\u001b[0m\u001b[1;32m      7\u001b[0m   \u001b[0mcomp\u001b[0m\u001b[0;34m.\u001b[0m\u001b[0mappend\u001b[0m\u001b[0;34m(\u001b[0m\u001b[0mn_comp\u001b[0m\u001b[0;34m)\u001b[0m\u001b[0;34m\u001b[0m\u001b[0;34m\u001b[0m\u001b[0m\n\u001b[1;32m      8\u001b[0m   \u001b[0mperc\u001b[0m\u001b[0;34m.\u001b[0m\u001b[0mappend\u001b[0m\u001b[0;34m(\u001b[0m\u001b[0mpercent\u001b[0m\u001b[0;34m)\u001b[0m\u001b[0;34m\u001b[0m\u001b[0;34m\u001b[0m\u001b[0m\n",
            "\u001b[0;32m<ipython-input-14-7b43b3191700>\u001b[0m in \u001b[0;36mgeneratePCA\u001b[0;34m(session, regions, varThreshold, single_region, structure)\u001b[0m\n\u001b[1;32m     34\u001b[0m     \u001b[0;31m# fit PCA\u001b[0m\u001b[0;34m\u001b[0m\u001b[0;34m\u001b[0m\u001b[0;34m\u001b[0m\u001b[0m\n\u001b[1;32m     35\u001b[0m     \u001b[0mpca_model\u001b[0m \u001b[0;34m=\u001b[0m \u001b[0mPCA\u001b[0m\u001b[0;34m(\u001b[0m\u001b[0;34m)\u001b[0m\u001b[0;34m\u001b[0m\u001b[0;34m\u001b[0m\u001b[0m\n\u001b[0;32m---> 36\u001b[0;31m     \u001b[0mpca_model\u001b[0m\u001b[0;34m.\u001b[0m\u001b[0mfit\u001b[0m\u001b[0;34m(\u001b[0m\u001b[0mdat_meaned\u001b[0m\u001b[0;34m.\u001b[0m\u001b[0mT\u001b[0m\u001b[0;34m)\u001b[0m\u001b[0;34m\u001b[0m\u001b[0;34m\u001b[0m\u001b[0m\n\u001b[0m\u001b[1;32m     37\u001b[0m \u001b[0;34m\u001b[0m\u001b[0m\n\u001b[1;32m     38\u001b[0m     \u001b[0;31m# how many components were needed to explain 90% of the variance in the data?\u001b[0m\u001b[0;34m\u001b[0m\u001b[0;34m\u001b[0m\u001b[0;34m\u001b[0m\u001b[0m\n",
            "\u001b[0;32m/usr/local/lib/python3.6/dist-packages/sklearn/decomposition/_pca.py\u001b[0m in \u001b[0;36mfit\u001b[0;34m(self, X, y)\u001b[0m\n\u001b[1;32m    342\u001b[0m             \u001b[0mReturns\u001b[0m \u001b[0mthe\u001b[0m \u001b[0minstance\u001b[0m \u001b[0mitself\u001b[0m\u001b[0;34m.\u001b[0m\u001b[0;34m\u001b[0m\u001b[0;34m\u001b[0m\u001b[0m\n\u001b[1;32m    343\u001b[0m         \"\"\"\n\u001b[0;32m--> 344\u001b[0;31m         \u001b[0mself\u001b[0m\u001b[0;34m.\u001b[0m\u001b[0m_fit\u001b[0m\u001b[0;34m(\u001b[0m\u001b[0mX\u001b[0m\u001b[0;34m)\u001b[0m\u001b[0;34m\u001b[0m\u001b[0;34m\u001b[0m\u001b[0m\n\u001b[0m\u001b[1;32m    345\u001b[0m         \u001b[0;32mreturn\u001b[0m \u001b[0mself\u001b[0m\u001b[0;34m\u001b[0m\u001b[0;34m\u001b[0m\u001b[0m\n\u001b[1;32m    346\u001b[0m \u001b[0;34m\u001b[0m\u001b[0m\n",
            "\u001b[0;32m/usr/local/lib/python3.6/dist-packages/sklearn/decomposition/_pca.py\u001b[0m in \u001b[0;36m_fit\u001b[0;34m(self, X)\u001b[0m\n\u001b[1;32m    389\u001b[0m \u001b[0;34m\u001b[0m\u001b[0m\n\u001b[1;32m    390\u001b[0m         X = check_array(X, dtype=[np.float64, np.float32], ensure_2d=True,\n\u001b[0;32m--> 391\u001b[0;31m                         copy=self.copy)\n\u001b[0m\u001b[1;32m    392\u001b[0m \u001b[0;34m\u001b[0m\u001b[0m\n\u001b[1;32m    393\u001b[0m         \u001b[0;31m# Handle n_components==None\u001b[0m\u001b[0;34m\u001b[0m\u001b[0;34m\u001b[0m\u001b[0;34m\u001b[0m\u001b[0m\n",
            "\u001b[0;32m/usr/local/lib/python3.6/dist-packages/sklearn/utils/validation.py\u001b[0m in \u001b[0;36mcheck_array\u001b[0;34m(array, accept_sparse, accept_large_sparse, dtype, order, copy, force_all_finite, ensure_2d, allow_nd, ensure_min_samples, ensure_min_features, warn_on_dtype, estimator)\u001b[0m\n\u001b[1;32m    584\u001b[0m                              \u001b[0;34m\" minimum of %d is required%s.\"\u001b[0m\u001b[0;34m\u001b[0m\u001b[0;34m\u001b[0m\u001b[0m\n\u001b[1;32m    585\u001b[0m                              % (n_samples, array.shape, ensure_min_samples,\n\u001b[0;32m--> 586\u001b[0;31m                                 context))\n\u001b[0m\u001b[1;32m    587\u001b[0m \u001b[0;34m\u001b[0m\u001b[0m\n\u001b[1;32m    588\u001b[0m     \u001b[0;32mif\u001b[0m \u001b[0mensure_min_features\u001b[0m \u001b[0;34m>\u001b[0m \u001b[0;36m0\u001b[0m \u001b[0;32mand\u001b[0m \u001b[0marray\u001b[0m\u001b[0;34m.\u001b[0m\u001b[0mndim\u001b[0m \u001b[0;34m==\u001b[0m \u001b[0;36m2\u001b[0m\u001b[0;34m:\u001b[0m\u001b[0;34m\u001b[0m\u001b[0;34m\u001b[0m\u001b[0m\n",
            "\u001b[0;31mValueError\u001b[0m: Found array with 0 sample(s) (shape=(0, 415)) while a minimum of 1 is required."
          ]
        }
      ]
    },
    {
      "cell_type": "code",
      "metadata": {
        "id": "OxczD94JS5qP",
        "colab": {
          "base_uri": "https://localhost:8080/",
          "height": 383
        },
        "outputId": "993039ce-496d-4c2a-f050-8597f79f0fe3"
      },
      "source": [
        "\n",
        "f = sns.catplot(x=\"hits\", y=\"value\", hue=\"side\", kind=\"box\", data=value);\n",
        "f.set_axis_labels(\"Response\",\"Linear Dimensionality Normalized Across Sessions\")"
      ],
      "execution_count": null,
      "outputs": [
        {
          "output_type": "execute_result",
          "data": {
            "text/plain": [
              "<seaborn.axisgrid.FacetGrid at 0x7f4e681916d8>"
            ]
          },
          "metadata": {
            "tags": []
          },
          "execution_count": 54
        },
        {
          "output_type": "display_data",
          "data": {
            "image/png": "[encoded data removed]",
            "text/plain": [
              "<Figure size 425.725x360 with 1 Axes>"
            ]
          },
          "metadata": {
            "tags": []
          }
        }
      ]
    },
    {
      "cell_type": "code",
      "metadata": {
        "id": "Y2IgfpZvTd9u",
        "colab": {
          "base_uri": "https://localhost:8080/",
          "height": 375
        },
        "outputId": "75dc1222-4ca9-48c4-a7a3-fb3714415855"
      },
      "source": [
        "# anova and plot for forebrain\n",
        "\n",
        "comp = []\n",
        "perc = []\n",
        "\n",
        "for sesh in sessions_w_visForeMid:\n",
        "  n_comp, percent, _ = generatePCA(sesh, vis)\n",
        "  comp.append(n_comp)\n",
        "  perc.append(percent)\n",
        "\n",
        "df = pd.DataFrame(perc)\n",
        "df = df.T\n",
        "df['side'] = [\"left\", \"left\", \"right\", \"right\"]\n",
        "df['hits'] = ['hit', 'miss', 'hit', 'miss']\n",
        "\n",
        "value = pd.melt(df, id_vars = ['side', 'hits'])\n",
        "#value\n",
        "\n",
        "# Ordinary Least Squares (OLS) model\n",
        "# C(Hits):C(Side) represent interaction term\n",
        "model = ols('value ~ C(hits) + C(side) + C(hits):C(side)', data=value).fit()\n",
        "anova_tablev = sm.stats.anova_lm(model, typ=2)\n",
        "anova_tablev\n"
      ],
      "execution_count": null,
      "outputs": [
        {
          "output_type": "error",
          "ename": "IndexError",
          "evalue": "ignored",
          "traceback": [
            "\u001b[0;31m---------------------------------------------------------------------------\u001b[0m",
            "\u001b[0;31mIndexError\u001b[0m                                Traceback (most recent call last)",
            "\u001b[0;32m<ipython-input-55-63b20f58908c>\u001b[0m in \u001b[0;36m<module>\u001b[0;34m()\u001b[0m\n\u001b[1;32m      5\u001b[0m \u001b[0;34m\u001b[0m\u001b[0m\n\u001b[1;32m      6\u001b[0m \u001b[0;32mfor\u001b[0m \u001b[0msesh\u001b[0m \u001b[0;32min\u001b[0m \u001b[0msessions_w_visForeMid\u001b[0m\u001b[0;34m:\u001b[0m\u001b[0;34m\u001b[0m\u001b[0;34m\u001b[0m\u001b[0m\n\u001b[0;32m----> 7\u001b[0;31m   \u001b[0mn_comp\u001b[0m\u001b[0;34m,\u001b[0m \u001b[0mpercent\u001b[0m\u001b[0;34m,\u001b[0m \u001b[0m_\u001b[0m \u001b[0;34m=\u001b[0m \u001b[0mgeneratePCA\u001b[0m\u001b[0;34m(\u001b[0m\u001b[0msesh\u001b[0m\u001b[0;34m,\u001b[0m \u001b[0mvis\u001b[0m\u001b[0;34m)\u001b[0m\u001b[0;34m\u001b[0m\u001b[0;34m\u001b[0m\u001b[0m\n\u001b[0m\u001b[1;32m      8\u001b[0m   \u001b[0mcomp\u001b[0m\u001b[0;34m.\u001b[0m\u001b[0mappend\u001b[0m\u001b[0;34m(\u001b[0m\u001b[0mn_comp\u001b[0m\u001b[0;34m)\u001b[0m\u001b[0;34m\u001b[0m\u001b[0;34m\u001b[0m\u001b[0m\n\u001b[1;32m      9\u001b[0m   \u001b[0mperc\u001b[0m\u001b[0;34m.\u001b[0m\u001b[0mappend\u001b[0m\u001b[0;34m(\u001b[0m\u001b[0mpercent\u001b[0m\u001b[0;34m)\u001b[0m\u001b[0;34m\u001b[0m\u001b[0;34m\u001b[0m\u001b[0m\n",
            "\u001b[0;32m<ipython-input-37-596da08626d9>\u001b[0m in \u001b[0;36mgeneratePCA\u001b[0;34m(session, regions, varThreshold, single_region, structure)\u001b[0m\n\u001b[1;32m     27\u001b[0m \u001b[0;34m\u001b[0m\u001b[0m\n\u001b[1;32m     28\u001b[0m     \u001b[0;32melse\u001b[0m\u001b[0;34m:\u001b[0m\u001b[0;34m\u001b[0m\u001b[0;34m\u001b[0m\u001b[0m\n\u001b[0;32m---> 29\u001b[0;31m       \u001b[0mdat\u001b[0m \u001b[0;34m=\u001b[0m \u001b[0mget_dat_mult_regions\u001b[0m\u001b[0;34m(\u001b[0m\u001b[0msession\u001b[0m\u001b[0;34m,\u001b[0m \u001b[0mtrial\u001b[0m\u001b[0;34m,\u001b[0m \u001b[0mregions\u001b[0m\u001b[0;34m)\u001b[0m\u001b[0;34m\u001b[0m\u001b[0;34m\u001b[0m\u001b[0m\n\u001b[0m\u001b[1;32m     30\u001b[0m \u001b[0;34m\u001b[0m\u001b[0m\n\u001b[1;32m     31\u001b[0m     \u001b[0;31m# prep for PCA by reshaping into a 2D matrix and centering the data\u001b[0m\u001b[0;34m\u001b[0m\u001b[0;34m\u001b[0m\u001b[0;34m\u001b[0m\u001b[0m\n",
            "\u001b[0;32m<ipython-input-36-1493f51e4f79>\u001b[0m in \u001b[0;36mget_dat_mult_regions\u001b[0;34m(session, trialType, regions)\u001b[0m\n\u001b[1;32m     15\u001b[0m \u001b[0;34m\u001b[0m\u001b[0m\n\u001b[1;32m     16\u001b[0m   \u001b[0;32mfor\u001b[0m \u001b[0mj\u001b[0m \u001b[0;32min\u001b[0m \u001b[0mrange\u001b[0m\u001b[0;34m(\u001b[0m\u001b[0mlen\u001b[0m\u001b[0;34m(\u001b[0m\u001b[0mregions\u001b[0m\u001b[0;34m)\u001b[0m\u001b[0;34m)\u001b[0m\u001b[0;34m:\u001b[0m\u001b[0;34m\u001b[0m\u001b[0;34m\u001b[0m\u001b[0m\n\u001b[0;32m---> 17\u001b[0;31m     \u001b[0mdata\u001b[0m\u001b[0;34m.\u001b[0m\u001b[0mappend\u001b[0m\u001b[0;34m(\u001b[0m\u001b[0mtrialType\u001b[0m\u001b[0;34m[\u001b[0m\u001b[0msession\u001b[0m\u001b[0;34m]\u001b[0m\u001b[0;34m[\u001b[0m\u001b[0;34m:\u001b[0m\u001b[0;34m,\u001b[0m \u001b[0;34m:\u001b[0m\u001b[0;34m,\u001b[0m \u001b[0;36m51\u001b[0m\u001b[0;34m:\u001b[0m\u001b[0;36m75\u001b[0m\u001b[0;34m]\u001b[0m\u001b[0;34m[\u001b[0m\u001b[0mbrainRegions\u001b[0m\u001b[0;34m[\u001b[0m\u001b[0msession\u001b[0m\u001b[0;34m]\u001b[0m \u001b[0;34m==\u001b[0m \u001b[0mregions\u001b[0m\u001b[0;34m[\u001b[0m\u001b[0mj\u001b[0m\u001b[0;34m]\u001b[0m\u001b[0;34m]\u001b[0m\u001b[0;34m)\u001b[0m\u001b[0;34m\u001b[0m\u001b[0;34m\u001b[0m\u001b[0m\n\u001b[0m\u001b[1;32m     18\u001b[0m \u001b[0;34m\u001b[0m\u001b[0m\n\u001b[1;32m     19\u001b[0m   \u001b[0mdataStack\u001b[0m \u001b[0;34m=\u001b[0m \u001b[0mnp\u001b[0m\u001b[0;34m.\u001b[0m\u001b[0mvstack\u001b[0m\u001b[0;34m(\u001b[0m\u001b[0mdata\u001b[0m\u001b[0;34m)\u001b[0m\u001b[0;34m\u001b[0m\u001b[0;34m\u001b[0m\u001b[0m\n",
            "\u001b[0;31mIndexError\u001b[0m: list index out of range"
          ]
        }
      ]
    },
    {
      "cell_type": "code",
      "metadata": {
        "id": "KM8ioH2bTiPd"
      },
      "source": [
        "v = sns.catplot(x=\"hits\", y=\"value\", hue=\"side\", kind=\"box\", data=value);\n",
        "v.set_axis_labels(\"Response\",\"Linear Dimensionality Normalized Across Sessions\")"
      ],
      "execution_count": null,
      "outputs": []
    },
    {
      "cell_type": "code",
      "metadata": {
        "id": "_rAl8dqEWcEd",
        "colab": {
          "base_uri": "https://localhost:8080/",
          "height": 375
        },
        "outputId": "8f50aaf0-7695-424c-fd58-51ed3690c489"
      },
      "source": [
        "comp = []\n",
        "perc = []\n",
        "\n",
        "for sesh in sessions_w_visForeMid:\n",
        "  n_comp, percent, _ = generatePCA(sesh, visMid)\n",
        "  comp.append(n_comp)\n",
        "  perc.append(percent)\n",
        "\n",
        "df = pd.DataFrame(perc)\n",
        "df = df.T\n",
        "df['side'] = [\"left\", \"left\", \"right\", \"right\"]\n",
        "df['hits'] = ['hit', 'miss', 'hit', 'miss']\n",
        "\n",
        "value = pd.melt(df, id_vars = ['side', 'hits'])\n",
        "#value\n",
        "\n",
        "# Ordinary Least Squares (OLS) model\n",
        "# C(Hits):C(Side) represent interaction term\n",
        "model = ols('value ~ C(hits) + C(side) + C(hits):C(side)', data=value).fit()\n",
        "anova_tablevm = sm.stats.anova_lm(model, typ=2)\n",
        "anova_tablevm"
      ],
      "execution_count": null,
      "outputs": [
        {
          "output_type": "error",
          "ename": "IndexError",
          "evalue": "ignored",
          "traceback": [
            "\u001b[0;31m---------------------------------------------------------------------------\u001b[0m",
            "\u001b[0;31mIndexError\u001b[0m                                Traceback (most recent call last)",
            "\u001b[0;32m<ipython-input-56-6a5f31cad6b1>\u001b[0m in \u001b[0;36m<module>\u001b[0;34m()\u001b[0m\n\u001b[1;32m      3\u001b[0m \u001b[0;34m\u001b[0m\u001b[0m\n\u001b[1;32m      4\u001b[0m \u001b[0;32mfor\u001b[0m \u001b[0msesh\u001b[0m \u001b[0;32min\u001b[0m \u001b[0msessions_w_visForeMid\u001b[0m\u001b[0;34m:\u001b[0m\u001b[0;34m\u001b[0m\u001b[0;34m\u001b[0m\u001b[0m\n\u001b[0;32m----> 5\u001b[0;31m   \u001b[0mn_comp\u001b[0m\u001b[0;34m,\u001b[0m \u001b[0mpercent\u001b[0m\u001b[0;34m,\u001b[0m \u001b[0m_\u001b[0m \u001b[0;34m=\u001b[0m \u001b[0mgeneratePCA\u001b[0m\u001b[0;34m(\u001b[0m\u001b[0msesh\u001b[0m\u001b[0;34m,\u001b[0m \u001b[0mvisMid\u001b[0m\u001b[0;34m)\u001b[0m\u001b[0;34m\u001b[0m\u001b[0;34m\u001b[0m\u001b[0m\n\u001b[0m\u001b[1;32m      6\u001b[0m   \u001b[0mcomp\u001b[0m\u001b[0;34m.\u001b[0m\u001b[0mappend\u001b[0m\u001b[0;34m(\u001b[0m\u001b[0mn_comp\u001b[0m\u001b[0;34m)\u001b[0m\u001b[0;34m\u001b[0m\u001b[0;34m\u001b[0m\u001b[0m\n\u001b[1;32m      7\u001b[0m   \u001b[0mperc\u001b[0m\u001b[0;34m.\u001b[0m\u001b[0mappend\u001b[0m\u001b[0;34m(\u001b[0m\u001b[0mpercent\u001b[0m\u001b[0;34m)\u001b[0m\u001b[0;34m\u001b[0m\u001b[0;34m\u001b[0m\u001b[0m\n",
            "\u001b[0;32m<ipython-input-37-596da08626d9>\u001b[0m in \u001b[0;36mgeneratePCA\u001b[0;34m(session, regions, varThreshold, single_region, structure)\u001b[0m\n\u001b[1;32m     27\u001b[0m \u001b[0;34m\u001b[0m\u001b[0m\n\u001b[1;32m     28\u001b[0m     \u001b[0;32melse\u001b[0m\u001b[0;34m:\u001b[0m\u001b[0;34m\u001b[0m\u001b[0;34m\u001b[0m\u001b[0m\n\u001b[0;32m---> 29\u001b[0;31m       \u001b[0mdat\u001b[0m \u001b[0;34m=\u001b[0m \u001b[0mget_dat_mult_regions\u001b[0m\u001b[0;34m(\u001b[0m\u001b[0msession\u001b[0m\u001b[0;34m,\u001b[0m \u001b[0mtrial\u001b[0m\u001b[0;34m,\u001b[0m \u001b[0mregions\u001b[0m\u001b[0;34m)\u001b[0m\u001b[0;34m\u001b[0m\u001b[0;34m\u001b[0m\u001b[0m\n\u001b[0m\u001b[1;32m     30\u001b[0m \u001b[0;34m\u001b[0m\u001b[0m\n\u001b[1;32m     31\u001b[0m     \u001b[0;31m# prep for PCA by reshaping into a 2D matrix and centering the data\u001b[0m\u001b[0;34m\u001b[0m\u001b[0;34m\u001b[0m\u001b[0;34m\u001b[0m\u001b[0m\n",
            "\u001b[0;32m<ipython-input-36-1493f51e4f79>\u001b[0m in \u001b[0;36mget_dat_mult_regions\u001b[0;34m(session, trialType, regions)\u001b[0m\n\u001b[1;32m     15\u001b[0m \u001b[0;34m\u001b[0m\u001b[0m\n\u001b[1;32m     16\u001b[0m   \u001b[0;32mfor\u001b[0m \u001b[0mj\u001b[0m \u001b[0;32min\u001b[0m \u001b[0mrange\u001b[0m\u001b[0;34m(\u001b[0m\u001b[0mlen\u001b[0m\u001b[0;34m(\u001b[0m\u001b[0mregions\u001b[0m\u001b[0;34m)\u001b[0m\u001b[0;34m)\u001b[0m\u001b[0;34m:\u001b[0m\u001b[0;34m\u001b[0m\u001b[0;34m\u001b[0m\u001b[0m\n\u001b[0;32m---> 17\u001b[0;31m     \u001b[0mdata\u001b[0m\u001b[0;34m.\u001b[0m\u001b[0mappend\u001b[0m\u001b[0;34m(\u001b[0m\u001b[0mtrialType\u001b[0m\u001b[0;34m[\u001b[0m\u001b[0msession\u001b[0m\u001b[0;34m]\u001b[0m\u001b[0;34m[\u001b[0m\u001b[0;34m:\u001b[0m\u001b[0;34m,\u001b[0m \u001b[0;34m:\u001b[0m\u001b[0;34m,\u001b[0m \u001b[0;36m51\u001b[0m\u001b[0;34m:\u001b[0m\u001b[0;36m75\u001b[0m\u001b[0;34m]\u001b[0m\u001b[0;34m[\u001b[0m\u001b[0mbrainRegions\u001b[0m\u001b[0;34m[\u001b[0m\u001b[0msession\u001b[0m\u001b[0;34m]\u001b[0m \u001b[0;34m==\u001b[0m \u001b[0mregions\u001b[0m\u001b[0;34m[\u001b[0m\u001b[0mj\u001b[0m\u001b[0;34m]\u001b[0m\u001b[0;34m]\u001b[0m\u001b[0;34m)\u001b[0m\u001b[0;34m\u001b[0m\u001b[0;34m\u001b[0m\u001b[0m\n\u001b[0m\u001b[1;32m     18\u001b[0m \u001b[0;34m\u001b[0m\u001b[0m\n\u001b[1;32m     19\u001b[0m   \u001b[0mdataStack\u001b[0m \u001b[0;34m=\u001b[0m \u001b[0mnp\u001b[0m\u001b[0;34m.\u001b[0m\u001b[0mvstack\u001b[0m\u001b[0;34m(\u001b[0m\u001b[0mdata\u001b[0m\u001b[0;34m)\u001b[0m\u001b[0;34m\u001b[0m\u001b[0;34m\u001b[0m\u001b[0m\n",
            "\u001b[0;31mIndexError\u001b[0m: list index out of range"
          ]
        }
      ]
    },
    {
      "cell_type": "code",
      "metadata": {
        "id": "EOF7UPlgWceo"
      },
      "source": [
        "vm = sns.catplot(x=\"hits\", y=\"value\", hue=\"side\", kind=\"box\", data=value);\n",
        "vm.set_axis_labels(\"Response\",\"Linear Dimensionality Normalized Across Sessions\")"
      ],
      "execution_count": null,
      "outputs": []
    },
    {
      "cell_type": "code",
      "metadata": {
        "id": "2eoebjUTXslv"
      },
      "source": [
        "comp = []\n",
        "perc = []\n",
        "\n",
        "for sesh in sessions_w_visForeMid:\n",
        "  n_comp, percent, _ = generatePCA(sesh, visFore)\n",
        "  comp.append(n_comp)\n",
        "  perc.append(percent)\n",
        "\n",
        "df = pd.DataFrame(perc)\n",
        "df = df.T\n",
        "df['side'] = [\"left\", \"left\", \"right\", \"right\"]\n",
        "df['hits'] = ['hit', 'miss', 'hit', 'miss']\n",
        "\n",
        "value = pd.melt(df, id_vars = ['side', 'hits'])\n",
        "#value\n",
        "\n",
        "# Ordinary Least Squares (OLS) model\n",
        "# C(Hits):C(Side) represent interaction term\n",
        "model = ols('value ~ C(hits) + C(side) + C(hits):C(side)', data=value).fit()\n",
        "anova_tablevf = sm.stats.anova_lm(model, typ=2)\n",
        "anova_tablevf"
      ],
      "execution_count": null,
      "outputs": []
    },
    {
      "cell_type": "code",
      "metadata": {
        "id": "bWkkVg0pXs5e"
      },
      "source": [
        "vf = sns.catplot(x=\"hits\", y=\"value\", hue=\"side\", kind=\"box\", data=value);\n",
        "vf.set_axis_labels(\"Response\",\"Linear Dimensionality Normalized Across Sessions\")"
      ],
      "execution_count": null,
      "outputs": []
    },
    {
      "cell_type": "code",
      "metadata": {
        "id": "7v6pW6dYZrwG"
      },
      "source": [
        "comp = []\n",
        "perc = []\n",
        "\n",
        "for sesh in sessions_w_visForeMid:\n",
        "  n_comp, percent, _ = generatePCA(sesh, foreMid)\n",
        "  comp.append(n_comp)\n",
        "  perc.append(percent)\n",
        "\n",
        "df = pd.DataFrame(perc)\n",
        "df = df.T\n",
        "df['side'] = [\"left\", \"left\", \"right\", \"right\"]\n",
        "df['hits'] = ['hit', 'miss', 'hit', 'miss']\n",
        "\n",
        "value = pd.melt(df, id_vars = ['side', 'hits'])\n",
        "#value\n",
        "\n",
        "# Ordinary Least Squares (OLS) model\n",
        "# C(Hits):C(Side) represent interaction term\n",
        "model = ols('value ~ C(hits) + C(side) + C(hits):C(side)', data=value).fit()\n",
        "anova_tablefm = sm.stats.anova_lm(model, typ=2)\n",
        "anova_tablefm"
      ],
      "execution_count": null,
      "outputs": []
    },
    {
      "cell_type": "code",
      "metadata": {
        "id": "Bl2aZUPzZsB_"
      },
      "source": [
        "fm = sns.catplot(x=\"hits\", y=\"value\", hue=\"side\", kind=\"box\", data=value);\n",
        "fm.set_axis_labels(\"Response\",\"Linear Dimensionality Normalized Across Sessions\")"
      ],
      "execution_count": null,
      "outputs": []
    },
    {
      "cell_type": "code",
      "metadata": {
        "id": "5SO4HB29auei"
      },
      "source": [
        "#visForeMid = [0, 3, 4] # indeces for visual, forebrain (sans vis), and midbrain respectively\n",
        "comp = []\n",
        "perc = []\n",
        "\n",
        "for sesh in sessions_w_visForeMid:\n",
        "  n_comp, percent, _ = generatePCA(sesh, visForeMid)\n",
        "  comp.append(n_comp)\n",
        "  perc.append(percent)\n",
        "\n",
        "df = pd.DataFrame(perc)\n",
        "df = df.T\n",
        "df['side'] = [\"left\", \"left\", \"right\", \"right\"]\n",
        "df['hits'] = ['hit', 'miss', 'hit', 'miss']\n",
        "\n",
        "value = pd.melt(df, id_vars = ['side', 'hits'])\n",
        "#value\n",
        "\n",
        "# Ordinary Least Squares (OLS) model\n",
        "# C(Hits):C(Side) represent interaction term\n",
        "model = ols('value ~ C(hits) + C(side) + C(hits):C(side)', data=value).fit()\n",
        "anova_tablevfm = sm.stats.anova_lm(model, typ=2)\n",
        "anova_tablevfm"
      ],
      "execution_count": null,
      "outputs": []
    },
    {
      "cell_type": "code",
      "metadata": {
        "id": "kflZ4QoZautP"
      },
      "source": [
        "vfm = sns.catplot(x=\"hits\", y=\"value\", hue=\"side\", kind=\"box\", data=value);\n",
        "vfm.set_axis_labels(\"Response\",\"Linear Dimensionality Normalized Across Sessions\")"
      ],
      "execution_count": null,
      "outputs": []
    },
    {
      "cell_type": "markdown",
      "metadata": {
        "id": "WcLdLqNh1w0G"
      },
      "source": [
        "Smol dive into the midbrain"
      ]
    },
    {
      "cell_type": "code",
      "metadata": {
        "id": "O0KUYMN_14Xr"
      },
      "source": [
        "# which midbrain structures are we analyzing and how many neurons were recorded?\n",
        "structures, counts = np.unique(brainAreas[23][brainRegions[23] == 4], return_counts=True)\n",
        "for i in range(len(structures)):\n",
        "  print(\"{} contains {} neurons\".format(structures[i], counts[i]))"
      ],
      "execution_count": null,
      "outputs": []
    },
    {
      "cell_type": "markdown",
      "metadata": {
        "id": "nz6aE6eKIYjZ"
      },
      "source": [
        "Bad practice revamping an old function. Don't judge"
      ]
    },
    {
      "cell_type": "code",
      "metadata": {
        "id": "VzAZmhxv2QN3"
      },
      "source": [
        "def generatePCA_single(session, structure, varThreshold = 0.9):\n",
        "  '''\n",
        "  Inputs:\n",
        "  session (int): index that corresponds to session number\n",
        "  regions (int): integer that corresponds to region from brainRegions\n",
        "  varThreshold (float): desired cumulative percent of variance explained\n",
        "\n",
        "  Outputs:\n",
        "  Each list outputs data for rightHit, rightMiss, leftHit, and leftMiss respectively\n",
        "  numComp (list): number of components needed to explain up to varThreshold\n",
        "  percent (list): percent of components needed to explain up to varThreshold\n",
        "  components (list): components matrix\n",
        "  '''\n",
        "  n_comp = []\n",
        "  percent = [] \n",
        "  components = []\n",
        "\n",
        "  for trial in trialTypes:\n",
        "    # get spike data\n",
        "    dat = trial[session][brainAreas[session] == structure]\n",
        "\n",
        "    # prep for PCA by reshaping into a 2D matrix and centering the data\n",
        "    dat_reshape = np.reshape(dat, (len(dat), -1))\n",
        "    dat_meaned = dat_reshape - np.mean(dat_reshape)\n",
        "\n",
        "    # fit PCA \n",
        "    pca_model = PCA()\n",
        "    pca_model.fit(dat_meaned.T)\n",
        "\n",
        "    # how many components were needed to explain 90% of the variance in the data?\n",
        "    preExplVar = pca_model.explained_variance_ratio_ \n",
        "    explVar = np.cumsum(preExplVar)\n",
        "\n",
        "    numComponents = np.sum(explVar <= varThreshold)\n",
        "    n_comp.append(numComponents)\n",
        "\n",
        "    # how does this compare to the total number of components? \n",
        "    percentOfTotal = numComponents / len(dat)\n",
        "    percent.append(percentOfTotal)\n",
        "\n",
        "    # save principal components (organized by highest explained var to least)\n",
        "    W = pca_model.components_\n",
        "    components.append(W)\n",
        "\n",
        "  return n_comp, percent, components"
      ],
      "execution_count": null,
      "outputs": []
    },
    {
      "cell_type": "markdown",
      "metadata": {
        "id": "AZrfELWi9lXR"
      },
      "source": [
        "Next: Get subplots set"
      ]
    },
    {
      "cell_type": "code",
      "metadata": {
        "id": "pJuB7609IpoP",
        "colab": {
          "base_uri": "https://localhost:8080/",
          "height": 34
        },
        "outputId": "83e2454e-d188-41b4-a72f-0a2bb85bca4e"
      },
      "source": [
        "# which forebrain structures are we analyzing and how many neurons were recorded?\n",
        "structures, counts = np.unique(brainAreas[23][brainRegions[23] == 3], return_counts=True)\n",
        "for i in range(len(structures)):\n",
        "  print(\"{} contains {} neurons\".format(structures[i], counts[i]))"
      ],
      "execution_count": null,
      "outputs": [
        {
          "output_type": "stream",
          "text": [
            "RSP contains 181 neurons\n"
          ],
          "name": "stdout"
        }
      ]
    },
    {
      "cell_type": "code",
      "metadata": {
        "id": "WfCeCtJjJBCK",
        "colab": {
          "base_uri": "https://localhost:8080/",
          "height": 51
        },
        "outputId": "cbc72b35-7dc9-4970-9789-03fc850d6628"
      },
      "source": [
        "# which visual cortex structures are we analyzing and how many neurons were recorded?\n",
        "structure, counts = np.unique(brainAreas[23][brainRegions[23] == 0], return_counts=True)\n",
        "for i in range(len(structure)):\n",
        "  print(\"{} contains {} neurons\".format(structure[i], counts[i]))"
      ],
      "execution_count": null,
      "outputs": [
        {
          "output_type": "stream",
          "text": [
            "VISpm contains 146 neurons\n",
            "VISrl contains 150 neurons\n"
          ],
          "name": "stdout"
        }
      ]
    },
    {
      "cell_type": "markdown",
      "metadata": {
        "id": "QiGbOmuBkFxy"
      },
      "source": [
        "### Plot PCA components for each region"
      ]
    },
    {
      "cell_type": "code",
      "metadata": {
        "id": "zBsOBBRY72Pv",
        "colab": {
          "base_uri": "https://localhost:8080/",
          "height": 232
        },
        "outputId": "f0bc31ed-a3f0-4521-b813-38e02820ed79"
      },
      "source": [
        "visList = [visRHComps, visRMComps, visLHComps, visLMComps]\n",
        "midList = [midRHComps, midRMComps, midLHComps, midLMComps]\n",
        "foreList = [foreRHComps, foreRMComps, foreLHComps, foreLMComps]\n",
        "\n",
        "allRegions = [visList, midList, foreList]\n",
        "\n",
        "fig, ax = plt.subplots(3, 4, figsize = (10, 10), sharey = True, sharex = True)\n",
        "\n",
        "for region in range(len(allRegions)):\n",
        "  for trialType in range(len(allRegions[region])):\n",
        "    ax[region][trialType].hist(allRegions[region][trialType])\n",
        "\n",
        "'''\n",
        "next: figure out how best to label regions and trial types\n",
        "if ax[region] == 0: label trial\n",
        "if ax[:][trialType] == 0: label regions\n",
        "'''\n"
      ],
      "execution_count": null,
      "outputs": [
        {
          "output_type": "error",
          "ename": "NameError",
          "evalue": "ignored",
          "traceback": [
            "\u001b[0;31m---------------------------------------------------------------------------\u001b[0m",
            "\u001b[0;31mNameError\u001b[0m                                 Traceback (most recent call last)",
            "\u001b[0;32m<ipython-input-60-e515449f3971>\u001b[0m in \u001b[0;36m<module>\u001b[0;34m()\u001b[0m\n\u001b[0;32m----> 1\u001b[0;31m \u001b[0mvisList\u001b[0m \u001b[0;34m=\u001b[0m \u001b[0;34m[\u001b[0m\u001b[0mvisRHComps\u001b[0m\u001b[0;34m,\u001b[0m \u001b[0mvisRMComps\u001b[0m\u001b[0;34m,\u001b[0m \u001b[0mvisLHComps\u001b[0m\u001b[0;34m,\u001b[0m \u001b[0mvisLMComps\u001b[0m\u001b[0;34m]\u001b[0m\u001b[0;34m\u001b[0m\u001b[0;34m\u001b[0m\u001b[0m\n\u001b[0m\u001b[1;32m      2\u001b[0m \u001b[0mmidList\u001b[0m \u001b[0;34m=\u001b[0m \u001b[0;34m[\u001b[0m\u001b[0mmidRHComps\u001b[0m\u001b[0;34m,\u001b[0m \u001b[0mmidRMComps\u001b[0m\u001b[0;34m,\u001b[0m \u001b[0mmidLHComps\u001b[0m\u001b[0;34m,\u001b[0m \u001b[0mmidLMComps\u001b[0m\u001b[0;34m]\u001b[0m\u001b[0;34m\u001b[0m\u001b[0;34m\u001b[0m\u001b[0m\n\u001b[1;32m      3\u001b[0m \u001b[0mforeList\u001b[0m \u001b[0;34m=\u001b[0m \u001b[0;34m[\u001b[0m\u001b[0mforeRHComps\u001b[0m\u001b[0;34m,\u001b[0m \u001b[0mforeRMComps\u001b[0m\u001b[0;34m,\u001b[0m \u001b[0mforeLHComps\u001b[0m\u001b[0;34m,\u001b[0m \u001b[0mforeLMComps\u001b[0m\u001b[0;34m]\u001b[0m\u001b[0;34m\u001b[0m\u001b[0;34m\u001b[0m\u001b[0m\n\u001b[1;32m      4\u001b[0m \u001b[0;34m\u001b[0m\u001b[0m\n\u001b[1;32m      5\u001b[0m \u001b[0mallRegions\u001b[0m \u001b[0;34m=\u001b[0m \u001b[0;34m[\u001b[0m\u001b[0mvisList\u001b[0m\u001b[0;34m,\u001b[0m \u001b[0mmidList\u001b[0m\u001b[0;34m,\u001b[0m \u001b[0mforeList\u001b[0m\u001b[0;34m]\u001b[0m\u001b[0;34m\u001b[0m\u001b[0;34m\u001b[0m\u001b[0m\n",
            "\u001b[0;31mNameError\u001b[0m: name 'visRHComps' is not defined"
          ]
        }
      ]
    },
    {
      "cell_type": "markdown",
      "metadata": {
        "id": "BBeevCFeXRE6"
      },
      "source": [
        "# Next step: move into the PCA\n",
        "\n",
        "7.22.20"
      ]
    },
    {
      "cell_type": "code",
      "metadata": {
        "id": "__9k507cXgrB"
      },
      "source": [
        "#PCA for all brain data \n",
        "from sklearn.decomposition import PCA #import pca from Sklearn library\n",
        "\n",
        "def pcaForArea (choiceSpikes,brainRegions, roi = -1,numberComponents = 3000, varThreshold = 0.9):\n",
        "  '''\n",
        "  Function to run PCA on session-separated spike data, looking at neurons within a particular \n",
        "  region. It runs a large PCA, determines the # components needed to reach a \n",
        "  variance explained threshold. It returns, for each session, the # components\n",
        "  to hit the variance explained threshold. \n",
        "  Time bins in trials are reshaped to be a continuous train for each neuron.\n",
        "\n",
        "  Inputs: \n",
        "    choiceSpikes (list of 3D arrays): spiking data for a choice. Each item in the list is a session,\n",
        "                                     organized as neuron x trial x time bin; e.g. right hit, right miss\n",
        "    brainRegions (list of 1D arrays): brain regions for each neuron in a list item in choiceSpikes\n",
        "    roi (integer): number associated with the region of interest in brainRegions. Default -1 (whole brain)\n",
        "    numberComponents (integer): the number of components to run in the large PCA. Default, 500\n",
        "    varThreshold (float): the proportion of variance you'd like to explain with the PCA components. Default 0.9\n",
        "\n",
        "  Outputs:\n",
        "    holdComponents (list of 2D arrays): component weights from PCA for model\n",
        "    maxCompsSessions (list of integers): for each session, the # components that explain 90% of variance.\n",
        "    maxVarExplained (list of integers): actual variance explained-- may be less than threshold if components are low. \n",
        "\n",
        "\n",
        "  '''\n",
        "  #initialize output lists\n",
        "  holdComponents = []\n",
        "  maxCompsSessions = []\n",
        "  maxVarExplained = []\n",
        "\n",
        "  #print(len(choiceSpikes), end = \": \")\n",
        "\n",
        "  # #Time course: start of stimulus interval to the end.\n",
        "  # #time course was variable & linked to stimulus onset. Termination at response. \n",
        "  for i in range(len(choiceSpikes)):  #loop through each session. \n",
        "  #we do NOT need to loop through choiceSpikes because this contains 39 sessions. But not all sessions have recordings \n",
        "  #from each of the brain areas that we are intersted in (i.e. visual, mid, forebrain )\n",
        "  # July 24th, SC & AT : loop over sessions_w_visForeMid\n",
        "    #print(len(choiceSpikes))\n",
        "    #prepare data for PCA\n",
        "    datHolder = choiceSpikes[i] #get a single session\n",
        "    \n",
        "    #now cut down to just region of interest. \n",
        "    if roi > -1:\n",
        "      datHolder = datHolder[brainRegions[i]==roi,:,:] #Doesn't make sense. \n",
        "\n",
        "    #First: # components can't be >= the # of neurons. \n",
        "    #current_numberComponents = min(numberComponents,datHolder.shape[0]-1)\n",
        "\n",
        "    #print(current_numberComponents)\n",
        "    if datHolder.shape[0]<1:\n",
        "      continue\n",
        "\n",
        "    #Is the region of interest recorded in the session? If no, pass this iteration.\n",
        "    #if (roi >=0 & np.count_nonzero(brainRegions[i]==roi)<=0):\n",
        "    #  print(\"There are no neurons from the roi %s in session %s\" % (roi, i))\n",
        "    #  continue\n",
        "\n",
        "    #print(datHolder.shape)\n",
        "\n",
        "    #reshape long. Keep all time bins, so just a long 2nd dimension across trials.\n",
        "    dat_reshape = np.reshape(datHolder, (-1,datHolder.shape[1]*datHolder.shape[2]))\n",
        "    #print(datHolder.shape[1],datHolder.shape[2])\n",
        "    #print(dat_reshape.shape)\n",
        "\n",
        "    dat_meaned = dat_reshape - np.mean(dat_reshape)\n",
        "    #print(dat_meaned)\n",
        "\n",
        "    #Fit PCA \n",
        "    pca_model = PCA() #w/ components. Set max manually. \n",
        "    pca_model.fit(dat_meaned.T) #fit data\n",
        "\n",
        "    #pick appropriate number components\n",
        "    preExplVar = pca_model.explained_variance_ratio_ #gets % var explained by each component\n",
        "    explVar = np.cumsum(preExplVar) # cumulative sum of explained variance\n",
        "    if explVar[0] <varThreshold:\n",
        "      componentMax = np.argmax(np.where(explVar<= varThreshold)) #get component index such that 90% variance is explained.\n",
        "      maxCompsSessions.append(componentMax+1) #since it's an index, add 1 to the value.\n",
        "      maxVarExplained.append(explVar[componentMax]) #get var explained, in case it's not at threshold\n",
        "    else:\n",
        "      maxCompsSessions.append(1)\n",
        "      maxVarExplained.append(explVar[0])\n",
        "    #run updated PCA using the # components we want. \n",
        "    #pca_correct = PCA(n_components=componentMax+1).fit(dat_meaned.T) #since this indexes from 1, I need to add that back on. \n",
        "\n",
        "    #update our components holder to keep these components\n",
        "    W = pca_model.components_\n",
        "    holdComponents.append(W) #add new component matrix.\n",
        "\n",
        "    #let us know where you are. \n",
        "    print(i+1, end = \" \")\n",
        "\n",
        "  return holdComponents, maxCompsSessions, maxVarExplained\n",
        "  \n",
        "\n"
      ],
      "execution_count": null,
      "outputs": []
    },
    {
      "cell_type": "code",
      "metadata": {
        "id": "cHIcRxnRn3QU"
      },
      "source": [
        "#run on whole brain\n",
        "# we need to take into consideration those that were filtered out. i.e. use \n",
        "#only the sessions from sessions_w_visForeMid rather than from brainRegions\n",
        "allRHWMat, allRHComps, allRHVar = pcaForArea(rightHit,brainRegions) #right hits\n",
        "allRMWMat, allRMComps, allRMVar = pcaForArea(rightMiss,brainRegions) #right misses\n",
        "\n",
        "allLHWMat, allLHComps, allLHVar = pcaForArea(leftHit,brainRegions) #left hits\n",
        "allLMWMat, allLMComps, allLMVar = pcaForArea(leftMiss,brainRegions) #left misses"
      ],
      "execution_count": null,
      "outputs": []
    },
    {
      "cell_type": "code",
      "metadata": {
        "id": "lAHW2iZNnSFv"
      },
      "source": [
        "from matplotlib import pyplot as plt\n",
        "print(statistics.mean(visRHComps))\n",
        "plt.hist(visRHComps)"
      ],
      "execution_count": null,
      "outputs": []
    },
    {
      "cell_type": "markdown",
      "metadata": {
        "id": "5K7UT7dyj_6R"
      },
      "source": [
        "`alldat` contains 39 sessions from 10 mice, data from Steinmetz et al, 2019. Time bins for all measurements are 10ms, starting 500ms before stimulus onset. The mouse had to determine which side has the highest contrast. For each `dat = alldat[k]`, you have the following fields:\n",
        "\n",
        "* `dat['mouse_name']`: mouse name\n",
        "* `dat['date_exp']`: when a session was performed\n",
        "* `dat['spks']`: neurons by trials by time bins.    \n",
        "* `dat['brain_area']`: brain area for each neuron recorded. \n",
        "* `dat['contrast_right']`: contrast level for the right stimulus, which is always contralateral to the recorded brain areas.\n",
        "* `dat['contrast_left']`: contrast level for left stimulus. \n",
        "* `dat['gocue']`: when the go cue sound was played. \n",
        "* `dat['response_times']`: when the response was registered, which has to be after the go cue. The mouse can turn the wheel before the go cue (and nearly always does!), but the stimulus on the screen won't move before the go cue.  \n",
        "* `dat['response']`: which side the response was (`-1`, `0`, `1`). When the right-side stimulus had higher contrast, the correct choice was `-1`. `0` is a no go response. \n",
        "* `dat['feedback_time']`: when feedback was provided. \n",
        "* `dat['feedback_type']`: if the feedback was positive (`+1`, reward) or negative (`-1`, white noise burst).  \n",
        "* `dat['wheel']`: exact position of the wheel that the mice uses to make a response, binned at `10ms`. \n",
        "* `dat['pupil']`: pupil area  (noisy, because pupil is very small) + pupil horizontal and vertical position. \n",
        "* `dat['lfp']`: recording of the local field potential in each brain area from this experiment, binned at `10ms`.\n",
        "* `dat['brain_area_lfp']`: brain area names for the LFP channels. \n",
        "* `dat['trough_to_peak']`: measures the width of the action potential waveform for each neuron. Widths `<=10` samples are \"putative fast spiking neurons\". \n",
        "* `dat['waveform_w']`: temporal components of spike waveforms. `w@u` reconstructs the time by channels action potential shape. \n",
        "* `dat['waveform_u]`: spatial components of spike waveforms.\n",
        "* `dat['%X%_passive']`: same as above for `X` = {`spks`, `lfp`, `pupil`, `wheel`, `contrast_left`, `contrast_right`} but for  passive trials at the end of the recording when the mouse was no longer engaged and stopped making responses. \n",
        "\n",
        "\n"
      ]
    },
    {
      "cell_type": "code",
      "metadata": {
        "id": "raBVOEWgUK_B"
      },
      "source": [
        "#@title import matplotlib and set defaults\n",
        "from matplotlib import rcParams \n",
        "from matplotlib import pyplot as plt\n",
        "rcParams['figure.figsize'] = [20, 4]\n",
        "rcParams['font.size'] =15\n",
        "rcParams['axes.spines.top'] = False\n",
        "rcParams['axes.spines.right'] = False\n",
        "rcParams['figure.autolayout'] = True"
      ],
      "execution_count": null,
      "outputs": []
    },
    {
      "cell_type": "code",
      "metadata": {
        "id": "mmOarX5w16CR"
      },
      "source": [
        "#@title basic plots of population average\n",
        "from matplotlib import pyplot as plt\n",
        "dt = dat['bin_size'] # binning at 10 ms\n",
        "NT = dat['spks'].shape[-1]\n",
        "\n",
        "ax = plt.subplot(1,5,1)\n",
        "response = dat['response'] # right - nogo - left (-1, 0, 1)\n",
        "vis_right = dat['contrast_right'] # 0 - low - high\n",
        "vis_left = dat['contrast_left'] # 0 - low - high\n",
        "plt.plot(dt * np.arange(NT), 1/dt * dat['spks'][:,response>=0].mean(axis=(0,1))) # left responses\n",
        "plt.plot(dt * np.arange(NT), 1/dt * dat['spks'][:,response<0].mean(axis=(0,1))) # right responses\n",
        "plt.plot(dt * np.arange(NT), 1/dt * dat['spks'][:,vis_right>0].mean(axis=(0,1))) # stimulus on the right\n",
        "plt.plot(dt * np.arange(NT), 1/dt * dat['spks'][:,vis_right==0].mean(axis=(0,1))) # no stimulus on the right\n",
        "\n",
        "plt.legend(['left resp', 'right resp', 'right stim', 'no right stim'], fontsize=12)\n",
        "ax.set(xlabel  = 'time (sec)', ylabel = 'firing rate (Hz)');"
      ],
      "execution_count": null,
      "outputs": []
    },
    {
      "cell_type": "code",
      "metadata": {
        "id": "JYhiUDTi1uAZ"
      },
      "source": [
        "# # groupings of brain regions\n",
        "# regions = [\"vis ctx\", \"thal\", \"hipp\", \"other ctx\", \"midbrain\", \"basal ganglia\", \"cortical subplate\", \"other\"]\n",
        "# brain_groups = [[\"VISa\", \"VISam\", \"VISl\", \"VISp\", \"VISpm\", \"VISrl\"], # visual cortex\n",
        "#                 [\"CL\", \"LD\", \"LGd\", \"LH\", \"LP\", \"MD\", \"MG\", \"PO\", \"POL\", \"PT\", \"RT\", \"SPF\", \"TH\", \"VAL\", \"VPL\", \"VPM\"], # thalamus\n",
        "#                 [\"CA\", \"CA1\", \"CA2\", \"CA3\", \"DG\", \"SUB\", \"POST\"], # hippocampal\n",
        "#                 [\"ACA\", \"AUD\", \"COA\", \"DP\", \"ILA\", \"MOp\", \"MOs\", \"OLF\", \"ORB\", \"ORBm\", \"PIR\", \"PL\", \"SSp\", \"SSs\", \"RSP\",\" TT\"], # non-visual cortex\n",
        "#                 [\"APN\", \"IC\", \"MB\", \"MRN\", \"NB\", \"PAG\", \"RN\", \"SCs\", \"SCm\", \"SCig\", \"SCsg\", \"ZI\"], # midbrain\n",
        "#                 [\"ACB\", \"CP\", \"GPe\", \"LS\", \"LSc\", \"LSr\", \"MS\", \"OT\", \"SNr\", \"SI\"], # basal ganglia \n",
        "#                 [\"BLA\", \"BMA\", \"EP\", \"EPd\", \"MEA\"] # cortical subplate\n",
        "#                 ]\n",
        "\n",
        "# nareas = 4 # only the top 4 regions are in this particular mouse\n",
        "# NN = len(dat['brain_area']) # number of neurons\n",
        "# barea = nareas * np.ones(NN, ) # last one is \"other\"\n",
        "# for j in range(nareas):\n",
        "#   barea[np.isin(dat['brain_area'], brain_groups[j])] = j # assign a number to each region"
      ],
      "execution_count": null,
      "outputs": []
    },
    {
      "cell_type": "markdown",
      "metadata": {
        "id": "NFrDv7ad4yM4"
      },
      "source": [
        "# starting to work on our project\n"
      ]
    },
    {
      "cell_type": "code",
      "metadata": {
        "id": "lqMJRWZM2haT"
      },
      "source": [
        "#@title plots by brain region and visual conditions\n",
        "for j in range(nareas):\n",
        "  ax = plt.subplot(1,nareas,j+1)\n",
        "  \n",
        "  plt.plot(1/dt *  dat['spks'][barea==j][:,np.logical_and(vis_left==0, vis_right>0)].mean(axis=(0,1)))\n",
        "  plt.plot(1/dt *  dat['spks'][barea==j][:,np.logical_and(vis_left>0 , vis_right==0)].mean(axis=(0,1)))\n",
        "  plt.plot(1/dt *  dat['spks'][barea==j][:,np.logical_and(vis_left==0 , vis_right==0)].mean(axis=(0,1)))\n",
        "  plt.plot(1/dt *  dat['spks'][barea==j][:,np.logical_and(vis_left>0, vis_right>0)].mean(axis=(0,1)))  \n",
        "  plt.text(.25, .92, 'n=%d'%np.sum(barea==j), transform=ax.transAxes)\n",
        " \n",
        "  if j==0:\n",
        "    plt.legend(['right only', 'left only', 'neither', 'both'], fontsize=12)\n",
        "  ax.set(xlabel = 'binned time', ylabel = 'mean firing rate (Hz)', title = regions[j])\n"
      ],
      "execution_count": null,
      "outputs": []
    },
    {
      "cell_type": "code",
      "metadata": {
        "id": "vQA2tqAr-WSO"
      },
      "source": [
        "#@title plots by brain region and response type\n",
        "for j in range(nareas):\n",
        "  ax = plt.subplot(1,nareas,j+1)\n",
        "  plt.title(regions[j])\n",
        "  if np.sum(barea==j)==0:\n",
        "    continue\n",
        "  plt.plot(1/dt * dat['spks'][barea==j][:,response<0].mean(axis=(0,1)))  \n",
        "  plt.plot(1/dt * dat['spks'][barea==j][:,response>0].mean(axis=(0,1)))\n",
        "  plt.plot(1/dt * dat['spks'][barea==j][:,response==0].mean(axis=(0,1)))\n",
        " \n",
        "  if j==0:\n",
        "    plt.legend(['resp = left', 'resp = right', 'resp = none'], fontsize=12)\n",
        "  ax.set(xlabel = 'time', ylabel = 'mean firing rate (Hz)')\n"
      ],
      "execution_count": null,
      "outputs": []
    },
    {
      "cell_type": "code",
      "metadata": {
        "id": "vk69J9u-AV-2"
      },
      "source": [
        "#@title top PC directions from stimulus + response period, with projections of the entire duration\n",
        "from sklearn.decomposition import PCA \n",
        "\n",
        "droll = np.reshape(dat['spks'][:,:,51:130], (NN,-1)) # first 80 bins = 1.6 sec\n",
        "droll = droll - np.mean(droll, axis=1)[:, np.newaxis]\n",
        "model = PCA(n_components = 5).fit(droll.T)\n",
        "W = model.components_\n",
        "pc_10ms = W @ np.reshape(dat['spks'], (NN,-1))\n",
        "pc_10ms = np.reshape(pc_10ms, (5, -1, NT))"
      ],
      "execution_count": null,
      "outputs": []
    },
    {
      "cell_type": "code",
      "metadata": {
        "id": "VmAKoW85hZz7"
      },
      "source": [
        "#@title The top PCs capture most variance across the brain. What do they care about? \n",
        "plt.figure(figsize= (20, 6))\n",
        "for j in range(len(pc_10ms)):\n",
        "  ax = plt.subplot(2,len(pc_10ms)+1,j+1)\n",
        "  pc1 = pc_10ms[j]\n",
        "\n",
        "  plt.plot(pc1[np.logical_and(vis_left==0, vis_right>0), :].mean(axis=0))  \n",
        "  plt.plot(pc1[np.logical_and(vis_left>0, vis_right==0), :].mean(axis=0))\n",
        "  plt.plot(pc1[np.logical_and(vis_left==0, vis_right==0), :].mean(axis=0))\n",
        "  plt.plot(pc1[np.logical_and(vis_left>0, vis_right>0), :].mean(axis=0))\n",
        "   \n",
        "  if j==0:\n",
        "    plt.legend(['right only', 'left only', 'neither', 'both'], fontsize=8)\n",
        "  ax.set(xlabel = 'binned time', ylabel = 'mean firing rate (Hz)')\n",
        "  plt.title('PC %d'%j)\n",
        "\n",
        "  ax = plt.subplot(2,len(pc_10ms)+1,len(pc_10ms)+1 + j+1)\n",
        "  \n",
        "  plt.plot(pc1[response>0, :].mean(axis=0))  \n",
        "  plt.plot(pc1[response<0, :].mean(axis=0))\n",
        "  plt.plot(pc1[response==0, :].mean(axis=0))\n",
        "\n",
        "  if j==0:\n",
        "    plt.legend(['resp = left', 'resp = right', 'resp = none'], fontsize=8)\n",
        "  ax.set(xlabel = 'binned time', ylabel = 'mean firing rate (Hz)')\n",
        "  plt.title('PC %d'%j)"
      ],
      "execution_count": null,
      "outputs": []
    },
    {
      "cell_type": "code",
      "metadata": {
        "id": "6QZ-eFRwj3at"
      },
      "source": [
        "#@title now sort all trials by response latency and see if the PCs care about that.\n",
        "from scipy.stats import zscore\n",
        "\n",
        "isort = np.argsort(dat['response_time'].flatten())\n",
        "\n",
        "for j in range(len(pc_10ms)):\n",
        "  ax = plt.subplot(1,len(pc_10ms)+1,j+1)\n",
        "  pc1 = zscore(pc_10ms[j])\n",
        "  plt.imshow(pc1[isort, :], aspect='auto', vmax=2, vmin = -2,)\n",
        "  ax.set(xlabel = 'binned time', ylabel = 'trials sorted by latency')\n",
        "  plt.title('PC %d'%j)"
      ],
      "execution_count": null,
      "outputs": []
    },
    {
      "cell_type": "code",
      "metadata": {
        "id": "C-90MWoY15kh"
      },
      "source": [
        "#@title correct vs incorrect trials\n",
        "# the following are the correct responses:\n",
        "# if vis_left > vis_right : response >0\n",
        "# if vis_left < vis_right : response <0\n",
        "# if vis_left = vis_right : response =0\n",
        "# trials below red line are incorrect\n",
        "is_correct = np.sign(response)==np.sign(vis_left-vis_right)\n",
        "\n",
        "# sort by correct, and then by response\n",
        "isort = np.argsort(-is_correct.astype('float32') + response/10) \n",
        "\n",
        "nwrong = np.sum(is_correct)\n",
        "for j in range(len(pc_10ms)):\n",
        "  ax = plt.subplot(1,len(pc_10ms)+1,j+1)\n",
        "  pc1 = zscore(pc_10ms[j])\n",
        "  plt.imshow(pc1[isort, :], aspect='auto', vmax=2, vmin = -2)\n",
        "  ax.set(xlabel = 'binned time')\n",
        "  if j==0:\n",
        "    ax.set(ylabel = 'trials sorted by latency')  \n",
        "  plt.title('PC %d'%j)\n",
        "\n",
        "  plt.plot([0, NT], [nwrong, nwrong], 'r')\n"
      ],
      "execution_count": null,
      "outputs": []
    },
    {
      "cell_type": "code",
      "metadata": {
        "id": "u2kEZ1WybotR"
      },
      "source": [
        "# plot the LFP\n",
        "\n",
        "is_correct = np.sign(response)==np.sign(vis_left-vis_right)\n",
        "isort = np.argsort(-is_correct.astype('float32') + response/10) # sort by correct, and then by response\n",
        "\n",
        "nwrong = np.sum(is_correct)\n",
        "plt.figure(figsize=(20,6))\n",
        "for j in range(len(dat['lfp'])):\n",
        "  ax = plt.subplot(2,6,j+1)\n",
        "  plt.imshow(dat['lfp'][j, isort], cmap = 'bwr', vmax = 50, vmin=-50, aspect='auto')\n",
        "  plt.title('Area %s'%dat['brain_area_lfp'][j])\n",
        "  \n",
        "  plt.plot([0, NT], [nwrong, nwrong], 'r')\n",
        "  ax.set(xlabel = 'binned time')\n",
        "  if j==0:\n",
        "    ax.set(ylabel = 'trials sorted by latency')  \n"
      ],
      "execution_count": null,
      "outputs": []
    },
    {
      "cell_type": "code",
      "metadata": {
        "id": "2HgiWh4Vb2Su"
      },
      "source": [
        "# plot the behavioral data (pupil area is noisy because it's very small)\n",
        "\n",
        "ax = plt.subplot(1,5,1)\n",
        "plt.plot(dat['pupil'][0, :].mean(0));\n",
        "ax.set(ylabel='pupil area', xlabel = 'binned time', title='Pupil dynamics')\n",
        "\n",
        "yl = [-10, 10]\n",
        "ax = plt.subplot(1,5,2)\n",
        "plt.plot(dat['wheel'][0, response>0].mean(0));\n",
        "ax.set(ylim=yl)\n",
        "ax.set(ylim=yl, ylabel='wheel turns', xlabel = 'binned time', title='Left choices');\n",
        "\n",
        "ax = plt.subplot(1,5,3)\n",
        "plt.plot(dat['wheel'][0, response<0].mean(0));\n",
        "ax.set(ylim=yl)\n",
        "ax.set(ylim=yl, ylabel='wheel turns', xlabel = 'binned time', title='Right choices');\n",
        "\n",
        "ax = plt.subplot(1,5,4)\n",
        "plt.plot(dat['wheel'][0, response==0].mean(0));\n",
        "ax.set(ylim=yl, ylabel='wheel turns', xlabel = 'binned time', title='No go choices');\n"
      ],
      "execution_count": null,
      "outputs": []
    },
    {
      "cell_type": "code",
      "metadata": {
        "id": "f30HqR-QD0Sn"
      },
      "source": [
        "# plot the spike waveforms for some neurons. Sometimes these can tell us what cell type the neuron is \n",
        "# (i.e. fast spiking interneurons have short waveforms)\n",
        "\n",
        "for j in range(7):\n",
        "  ax = plt.subplot(1,7,j+1)\n",
        "  kk = 140 + j * 50\n",
        "  wav = dat['waveform_w'][kk] @ dat['waveform_u'][kk]\n",
        "  plt.plot(wav)\n",
        "  ax.set(xlabel = 'time samples', title ='unit %d'%kk, ylabel = 'normalized units')"
      ],
      "execution_count": null,
      "outputs": []
    },
    {
      "cell_type": "code",
      "metadata": {
        "id": "9JkyGhv0xvCQ"
      },
      "source": [
        "# plots by brain region and visual conditions for PASSIVE trials\n",
        "vis_left_p = dat['contrast_left_passive']\n",
        "vis_right_p = dat['contrast_right_passive']\n",
        "for j in range(nareas):\n",
        "  ax = plt.subplot(1,nareas,j+1)\n",
        "  plt.title(regions[j])\n",
        "  \n",
        "  plt.plot(1/dt *  dat['spks_passive'][barea==j][:,np.logical_and(vis_left_p==0, vis_right_p>0)].mean(axis=(0,1)))\n",
        "  plt.plot(1/dt *  dat['spks_passive'][barea==j][:,np.logical_and(vis_left_p>0 , vis_right_p==0)].mean(axis=(0,1)))\n",
        "  #plt.plot(1/dt *  dat['spks_passive'][barea==j][:,np.logical_and(vis_left_p==0 , vis_right_p==0)].mean(axis=(0,1)))\n",
        "  plt.plot(1/dt *  dat['spks_passive'][barea==j][:,np.logical_and(vis_left_p>0, vis_right_p>0)].mean(axis=(0,1)))  \n",
        "  plt.text(.25, .92, 'n=%d'%np.sum(barea==j), transform=ax.transAxes)\n",
        " \n",
        "  if j==0:\n",
        "    plt.legend(['right only', 'left only', 'both'], fontsize=12)\n",
        "  ax.set(xlabel = 'binned time', ylabel = 'mean firing rate (Hz)')"
      ],
      "execution_count": null,
      "outputs": []
    },
    {
      "cell_type": "markdown",
      "metadata": {
        "id": "KFRI2Vn38Bnn"
      },
      "source": [
        "1. for one mouse\n",
        "- loop through (spike data) brain regions, paired in the order found in steinmetz\n",
        "- pca of two brain regions\n",
        "- add up pca components and predict task performance (correct / incorrect)\n"
      ]
    },
    {
      "cell_type": "code",
      "metadata": {
        "id": "5z2TjiHzqaUQ"
      },
      "source": [
        "# subtracting pairwise stimulus activity for each neuron and trial, trial by trial\n",
        "# use residuals to do the analysis\n",
        "\n",
        "#VISam = dat['spks'][dat['brain_area'] == 'VISam']\n",
        "#VISp = dat['spks'][dat['brain_area'] == 'VISp']\n",
        "#droller = np.concatenate((VISam, VISp), axis=0)\n",
        "\n",
        "from sklearn.decomposition import PCA \n",
        "\n",
        "# take first 1.6s time bins\n",
        "dat_reshape = np.reshape(dat['spks'][:,:,51:-1 ], (len(dat['spks']),-1)) \n",
        "\n",
        "# mean score\n",
        "dat_meaned = dat_reshape - np.mean(dat_reshape, axis=1)[:, np.newaxis]\n",
        "\n",
        "# set up a loop to find optimal component number\n",
        "\n",
        "num_comp = 5\n",
        "# run pca\n",
        "model = PCA(n_components = num_comp).fit(dat_meaned.T)\n",
        "\n",
        "# take model_components\n",
        "W = model.components_\n",
        "\n",
        "# reconstructing the data scores\n",
        "#pc_10ms = W @ np.reshape(dat['spks'], (len(dat_meaned),-1))\n",
        "pc_10ms = W @ dat['spks'].mean(axis=2)\n",
        "#pc_10ms = np.reshape(pc_10ms, (num_comp, dat['spks'].shape[1], dat['spks'].shape[2]))"
      ],
      "execution_count": null,
      "outputs": []
    },
    {
      "cell_type": "code",
      "metadata": {
        "id": "jlKN6j8JsRYs"
      },
      "source": [
        "pc_10ms = np.reshape(pc_10ms, (num_comp, dat['spks'].shape[1], dat['spks'].shape[2]))"
      ],
      "execution_count": null,
      "outputs": []
    },
    {
      "cell_type": "code",
      "metadata": {
        "id": "BEqkXBrXuzst"
      },
      "source": [
        "import matplotlib.pyplot as plt \n",
        "print(plt.plot(pc_10ms[0, :], color='r'))\n",
        "print(plt.plot(pc_10ms[1, :], color='orange'))\n",
        "print(plt.plot(pc_10ms[2, :], color='yellow'))\n",
        "print(plt.plot(pc_10ms[3, :], color='green'))\n",
        "print(plt.plot(pc_10ms[4, :], color='purple'))"
      ],
      "execution_count": null,
      "outputs": []
    },
    {
      "cell_type": "code",
      "metadata": {
        "id": "mpkSavGhvneo"
      },
      "source": [
        "print(plt.plot(dat['feedback_type']))"
      ],
      "execution_count": null,
      "outputs": []
    },
    {
      "cell_type": "code",
      "metadata": {
        "id": "H5TVklLhsTnS"
      },
      "source": [
        "from sklearn.datasets import load_iris\n",
        "from sklearn.linear_model import LogisticRegression\n",
        "import numpy as np\n",
        "from sklearn.model_selection import cross_val_score\n",
        "from sklearn.model_selection import KFold\n",
        "import pandas as pd\n",
        "kf = KFold(n_splits=2)\n",
        "coef = []\n",
        "accuracy = []\n",
        "\n",
        "X = pc_10ms.T\n",
        "y = dat['feedback_type']\n",
        "model = LogisticRegression()\n",
        "for train_index, test_index in kf.split(X):\n",
        "  #print(\"TRAIN:\", train_index, \"TEST:\", test_index)\n",
        "  X_train, X_test = X[train_index], X[test_index]\n",
        "  y_train, y_test = y[train_index], y[test_index]\n",
        "  model.fit(X_train, np.ravel(y_train))\n",
        "  coef.append(model.coef_[0])\n",
        "  accuracy.append (model.score(X_test, y_test))\n",
        "    \n",
        "print('mean accuracy:', round(pd.DataFrame(accuracy).mean()[0], 5))\n",
        "#print('significantly greater than chance 50%, p-value=', round(binom_test(pd.DataFrame(accuracy).mean()*len(X), len(X), .5, alternative='greater'), 5))\n",
        "#print(cross_val_score(model, pc_10ms.T, dat['feedback_type'], cv=20))\n"
      ],
      "execution_count": null,
      "outputs": []
    },
    {
      "cell_type": "code",
      "metadata": {
        "id": "04_LVpwr07tJ"
      },
      "source": [
        "coef"
      ],
      "execution_count": null,
      "outputs": []
    },
    {
      "cell_type": "code",
      "metadata": {
        "id": "GqA6yDMPPHE5"
      },
      "source": [
        "#@title The top PCs capture most variance across the brain. What do they care about? \n",
        "plt.figure(figsize= (20, 6))\n",
        "for j in range(len(pc_10ms)):\n",
        "  ax = plt.subplot(2,len(pc_10ms)+1,j+1)\n",
        "  pc1 = pc_10ms[j]\n",
        "\n",
        "  plt.plot(pc1[np.logical_and(vis_left==0, vis_right>0), :].mean(axis=0))  \n",
        "  plt.plot(pc1[np.logical_and(vis_left>0, vis_right==0), :].mean(axis=0))\n",
        "  plt.plot(pc1[np.logical_and(vis_left==0, vis_right==0), :].mean(axis=0))\n",
        "  plt.plot(pc1[np.logical_and(vis_left>0, vis_right>0), :].mean(axis=0))\n",
        "   \n",
        "  if j==0:\n",
        "    plt.legend(['right only', 'left only', 'neither', 'both'], fontsize=8)\n",
        "  ax.set(xlabel = 'binned time', ylabel = 'mean firing rate (Hz)')\n",
        "  plt.title('PC %d'%j)\n",
        "\n",
        "  ax = plt.subplot(2,len(pc_10ms)+1,len(pc_10ms)+1 + j+1)\n",
        "  \n",
        "  plt.plot(pc1[response>0, :].mean(axis=0))  \n",
        "  plt.plot(pc1[response<0, :].mean(axis=0))\n",
        "  plt.plot(pc1[response==0, :].mean(axis=0))\n",
        "\n",
        "  if j==0:\n",
        "    plt.legend(['resp = left', 'resp = right', 'resp = none'], fontsize=8)\n",
        "  ax.set(xlabel = 'binned time', ylabel = 'mean firing rate (Hz)')\n",
        "  plt.title('PC %d'%j)"
      ],
      "execution_count": null,
      "outputs": []
    },
    {
      "cell_type": "code",
      "metadata": {
        "id": "Kw1fnVhdbWw3"
      },
      "source": [
        "#@title now sort all trials by response latency and see if the PCs care about that.\n",
        "from scipy.stats import zscore\n",
        "\n",
        "isort = np.argsort(dat['response_time'].flatten())\n",
        "\n",
        "for j in range(len(pc_10ms)):\n",
        "  ax = plt.subplot(1,len(pc_10ms)+1,j+1)\n",
        "  pc1 = zscore(pc_10ms[j])\n",
        "  plt.imshow(pc1[isort, :], aspect='auto', vmax=2, vmin = -2,)\n",
        "  ax.set(xlabel = 'binned time', ylabel = 'trials sorted by latency')\n",
        "  plt.title('PC %d'%j)"
      ],
      "execution_count": null,
      "outputs": []
    },
    {
      "cell_type": "code",
      "metadata": {
        "id": "Hu7LGNc1DP7V"
      },
      "source": [
        "# Perform PCA on the data matrix X\n",
        "#score, evectors, evals = pca(droller_meaned.T)\n",
        "# Plot the data projected into the new basis\n",
        "with plt.xkcd():\n",
        "  plot_data_new_basis(pc_10ms)"
      ],
      "execution_count": null,
      "outputs": []
    },
    {
      "cell_type": "code",
      "metadata": {
        "id": "zeDBk6a0DfqO"
      },
      "source": [
        "plot_eigenvalues(evals)"
      ],
      "execution_count": null,
      "outputs": []
    },
    {
      "cell_type": "code",
      "metadata": {
        "id": "M1z4UnpwQ5OW"
      },
      "source": [
        "# calculate the variance explained\n",
        "variance_explained = get_variance_explained(evals)\n",
        "with plt.xkcd():\n",
        "  plot_variance_explained(variance_explained)"
      ],
      "execution_count": null,
      "outputs": []
    },
    {
      "cell_type": "code",
      "metadata": {
        "id": "8m8oC8THDK2n"
      },
      "source": [
        "def plot_variance_explained(variance_explained):\n",
        "  \"\"\"\n",
        "  Plots eigenvalues.\n",
        "\n",
        "  Args:\n",
        "    variance_explained (numpy array of floats) : Vector of variance explained\n",
        "                                                 for each PC\n",
        "\n",
        "  Returns:\n",
        "    Nothing.\n",
        "\n",
        "  \"\"\"\n",
        "\n",
        "  plt.figure()\n",
        "  plt.plot(np.arange(1, len(variance_explained) + 1), variance_explained,\n",
        "           '--k')\n",
        "  plt.xlabel('Number of components')\n",
        "  plt.ylabel('Variance explained')\n",
        "  plt.show()\n",
        "\n",
        "\n",
        "\n",
        "def get_variance_explained(evals):\n",
        "  \"\"\"\n",
        "  Plots eigenvalues.\n",
        "\n",
        "  Args:\n",
        "    (numpy array of floats) : Vector of eigenvalues\n",
        "\n",
        "  Returns:\n",
        "    Nothing.\n",
        "\n",
        "  \"\"\"\n",
        "\n",
        "  # cumulatively sum the eigenvalues\n",
        "  csum = np.cumsum(evals)\n",
        "  # normalize by the sum of eigenvalues\n",
        "  variance_explained = csum / np.sum(evals)\n",
        "\n",
        "  return variance_explained\n",
        "\n",
        "def get_sample_cov_matrix(X):\n",
        "  \"\"\"\n",
        "  Returns the sample covariance matrix of data X\n",
        "  Args:\n",
        "    X (numpy array of floats) : Data matrix each column corresponds to a\n",
        "                                different random variable\n",
        "  Returns:\n",
        "    (numpy array of floats)   : Covariance matrix\n",
        "  \"\"\"\n",
        "\n",
        "  # Subtract the mean of X\n",
        "  X = X - np.mean(X, 0)\n",
        "  # Calculate the covariance matrix (hint: use np.matmul)\n",
        "  cov_matrix = cov_matrix = 1 / X.shape[0] * np.matmul(X.T, X)\n",
        "\n",
        "  return cov_matrix\n",
        "\n",
        "\n",
        "variance_1 = 1\n",
        "variance_2 = 1\n",
        "corr_coef = 0.8\n",
        "\n",
        "np.random.seed(2020)  # set random seed\n",
        "cov_matrix = calculate_cov_matrix(variance_1, variance_2, corr_coef)\n",
        "print(cov_matrix)\n",
        "\n",
        "X = get_data(cov_matrix)\n",
        "sample_cov_matrix = get_sample_cov_matrix(X)\n",
        "print(sample_cov_matrix)\n",
        "\n",
        "\n",
        "def pca(X):\n",
        "  \"\"\"\n",
        "  Performs PCA on multivariate data.\n",
        "  Args:\n",
        "    X (numpy array of floats) : Data matrix each column corresponds to a\n",
        "                                different random variable\n",
        "  Returns:\n",
        "    (numpy array of floats)   : Data projected onto the new basis\n",
        "    (numpy array of floats)   : Vector of eigenvalues\n",
        "    (numpy array of floats)   : Corresponding matrix of eigenvectors\n",
        "  \"\"\"\n",
        "\n",
        "  # Subtract the mean of X\n",
        "  X = X - np.mean(X, axis=0)\n",
        "  # Calculate the sample covariance matrix\n",
        "  cov_matrix = get_sample_cov_matrix(X)\n",
        "  # Calculate the eigenvalues and eigenvectors\n",
        "  evals, evectors = np.linalg.eigh(cov_matrix)\n",
        "  # Sort the eigenvalues in descending order\n",
        "  evals, evectors = sort_evals_descending(evals, evectors)\n",
        "  # Project the data onto the new eigenvector basis\n",
        "  score = change_of_basis(X, evectors)\n",
        "\n",
        "  return score, evectors, evals"
      ],
      "execution_count": null,
      "outputs": []
    },
    {
      "cell_type": "code",
      "metadata": {
        "id": "UJfpwsi7BoM9"
      },
      "source": [
        "def plot_eigenvalues(evals):\n",
        "  \"\"\"\n",
        "  Plots eigenvalues.\n",
        "\n",
        "  Args:\n",
        "      (numpy array of floats) : Vector of eigenvalues\n",
        "\n",
        "  Returns:\n",
        "    Nothing.\n",
        "\n",
        "  \"\"\"\n",
        "  plt.figure(figsize=(4, 4))\n",
        "  plt.plot(np.arange(1, len(evals) + 1), evals, 'o-k')\n",
        "  plt.xlabel('Component')\n",
        "  plt.ylabel('Eigenvalue')\n",
        "  plt.title('Scree plot')\n",
        "  plt.xticks(np.arange(1, len(evals) + 1))\n",
        "  plt.ylim([0, .6])\n",
        "\n",
        "\n",
        "def sort_evals_descending(evals, evectors):\n",
        "  \"\"\"\n",
        "  Sorts eigenvalues and eigenvectors in decreasing order. Also aligns first two\n",
        "  eigenvectors to be in first two quadrants (if 2D).\n",
        "\n",
        "  Args:\n",
        "    evals (numpy array of floats)    : Vector of eigenvalues\n",
        "    evectors (numpy array of floats) : Corresponding matrix of eigenvectors\n",
        "                                        each column corresponds to a different\n",
        "                                        eigenvalue\n",
        "\n",
        "  Returns:\n",
        "    (numpy array of floats)          : Vector of eigenvalues after sorting\n",
        "    (numpy array of floats)          : Matrix of eigenvectors after sorting\n",
        "  \"\"\"\n",
        "\n",
        "  index = np.flip(np.argsort(evals))\n",
        "  evals = evals[index]\n",
        "  evectors = evectors[:, index]\n",
        "  if evals.shape[0] == 2:\n",
        "    if np.arccos(np.matmul(evectors[:, 0],\n",
        "                           1 / np.sqrt(2) * np.array([1, 1]))) > np.pi / 2:\n",
        "      evectors[:, 0] = -evectors[:, 0]\n",
        "    if np.arccos(np.matmul(evectors[:, 1],\n",
        "                           1 / np.sqrt(2) * np.array([-1, 1]))) > np.pi / 2:\n",
        "      evectors[:, 1] = -evectors[:, 1]\n",
        "  return evals, evectors\n",
        "\n",
        "\n",
        "def plot_data(X):\n",
        "  \"\"\"\n",
        "  Plots bivariate data. Includes a plot of each random variable, and a scatter\n",
        "  scatter plot of their joint activity. The title indicates the sample\n",
        "  correlation calculated from the data.\n",
        "\n",
        "  Args:\n",
        "    X (numpy array of floats) : Data matrix each column corresponds to a\n",
        "                                different random variable\n",
        "\n",
        "  Returns:\n",
        "    Nothing.\n",
        "  \"\"\"\n",
        "\n",
        "  fig = plt.figure(figsize=[8, 4])\n",
        "  gs = fig.add_gridspec(2, 2)\n",
        "  ax1 = fig.add_subplot(gs[0, 0])\n",
        "  ax1.plot(X[:, 0], color='k')\n",
        "  plt.ylabel('Neuron 1')\n",
        "  ax2 = fig.add_subplot(gs[1, 0])\n",
        "  ax2.plot(X[:, 1], color='k')\n",
        "  plt.xlabel('Sample Number (sorted)')\n",
        "  plt.ylabel('Neuron 2')\n",
        "  ax3 = fig.add_subplot(gs[:, 1])\n",
        "  ax3.plot(X[:, 0], X[:, 1], '.', markerfacecolor=[.5, .5, .5],\n",
        "           markeredgewidth=0)\n",
        "  ax3.axis('equal')\n",
        "  plt.xlabel('Neuron 1 activity')\n",
        "  plt.ylabel('Neuron 2 activity')\n",
        "  plt.title('Sample corr: {:.1f}'.format(np.corrcoef(X[:, 0], X[:, 1])[0, 1]))\n",
        "  plt.show()\n",
        "\n",
        "\n",
        "def get_data(cov_matrix):\n",
        "  \"\"\"\n",
        "  Returns a matrix of 1000 samples from a bivariate, zero-mean Gaussian\n",
        "\n",
        "  Note that samples are sorted in ascending order for the first random\n",
        "  variable.\n",
        "\n",
        "  Args:\n",
        "    var_1 (scalar)                     : variance of the first random variable\n",
        "    var_2 (scalar)                     : variance of the second random variable\n",
        "    cov_matrix (numpy array of floats) : desired covariance matrix\n",
        "\n",
        "  Returns:\n",
        "    (numpy array of floats)            : samples from the bivariate Gaussian,\n",
        "                                          with each column corresponding to a\n",
        "                                          different random variable\n",
        "  \"\"\"\n",
        "\n",
        "  mean = np.array([0, 0])\n",
        "  X = np.random.multivariate_normal(mean, cov_matrix, size=1000)\n",
        "  indices_for_sorting = np.argsort(X[:, 0])\n",
        "  X = X[indices_for_sorting, :]\n",
        "  return X\n",
        "\n",
        "\n",
        "def calculate_cov_matrix(var_1, var_2, corr_coef):\n",
        "  \"\"\"\n",
        "  Calculates the covariance matrix based on the variances and\n",
        "  correlation coefficient.\n",
        "\n",
        "  Args:\n",
        "    var_1 (scalar)         :  variance of the first random variable\n",
        "    var_2 (scalar)         :  variance of the second random variable\n",
        "    corr_coef (scalar)     :  correlation coefficient\n",
        "\n",
        "  Returns:\n",
        "    (numpy array of floats) : covariance matrix\n",
        "  \"\"\"\n",
        "  cov = corr_coef * np.sqrt(var_1 * var_2)\n",
        "  cov_matrix = np.array([[var_1, cov], [cov, var_2]])\n",
        "  return cov_matrix\n",
        "\n",
        "\n",
        "def define_orthonormal_basis(u):\n",
        "  \"\"\"\n",
        "  Calculates an orthonormal basis given an arbitrary vector u.\n",
        "\n",
        "  Args:\n",
        "    u (numpy array of floats) : arbitrary 2D vector used for new basis\n",
        "\n",
        "  Returns:\n",
        "    (numpy array of floats)   : new orthonormal basis columns correspond to\n",
        "                                basis vectors\n",
        "  \"\"\"\n",
        "\n",
        "  u = u / np.sqrt(u[0] ** 2 + u[1] ** 2)\n",
        "  w = np.array([-u[1], u[0]])\n",
        "  W = np.column_stack((u, w))\n",
        "  return W\n",
        "\n",
        "\n",
        "def plot_data_new_basis(Y):\n",
        "  \"\"\"\n",
        "  Plots bivariate data after transformation to new bases. Similar to plot_data\n",
        "  but with colors corresponding to projections onto basis 1 (red) and\n",
        "  basis 2 (blue).\n",
        "  The title indicates the sample correlation calculated from the data.\n",
        "\n",
        "  Note that samples are re-sorted in ascending order for the first random\n",
        "  variable.\n",
        "\n",
        "  Args:\n",
        "    Y (numpy array of floats) : Data matrix in new basis each column\n",
        "                                corresponds to a different random variable\n",
        "\n",
        "  Returns:\n",
        "    Nothing.\n",
        "  \"\"\"\n",
        "\n",
        "  fig = plt.figure(figsize=[8, 4])\n",
        "  gs = fig.add_gridspec(2, 2)\n",
        "  ax1 = fig.add_subplot(gs[0, 0])\n",
        "  ax1.plot(Y[:, 0], 'r')\n",
        "  plt.ylabel('Projection \\n basis vector 1')\n",
        "  ax2 = fig.add_subplot(gs[1, 0])\n",
        "  ax2.plot(Y[:, 1], 'b')\n",
        "  plt.xlabel('Projection \\n basis vector 1')\n",
        "  plt.ylabel('Projection \\n basis vector 2')\n",
        "  ax3 = fig.add_subplot(gs[:, 1])\n",
        "  ax3.plot(Y[:, 0], Y[:, 1], '.', color=[.5, .5, .5])\n",
        "  ax3.axis('equal')\n",
        "  plt.xlabel('Projection basis vector 1')\n",
        "  plt.ylabel('Projection basis vector 2')\n",
        "  plt.title('Sample corr: {:.1f}'.format(np.corrcoef(Y[:, 0], Y[:, 1])[0, 1]))\n",
        "  plt.show()\n",
        "\n",
        "\n",
        "def change_of_basis(X, W):\n",
        "  \"\"\"\n",
        "  Projects data onto a new basis.\n",
        "\n",
        "  Args:\n",
        "    X (numpy array of floats) : Data matrix each column corresponding to a\n",
        "                                different random variable\n",
        "    W (numpy array of floats) : new orthonormal basis columns correspond to\n",
        "                                basis vectors\n",
        "\n",
        "  Returns:\n",
        "    (numpy array of floats)   : Data matrix expressed in new basis\n",
        "  \"\"\"\n",
        "\n",
        "  Y = np.matmul(X, W)\n",
        "  return Y\n",
        "\n",
        "\n",
        "def plot_basis_vectors(X, W):\n",
        "  \"\"\"\n",
        "  Plots bivariate data as well as new basis vectors.\n",
        "\n",
        "  Args:\n",
        "    X (numpy array of floats) : Data matrix each column corresponds to a\n",
        "                                different random variable\n",
        "    W (numpy array of floats) : Square matrix representing new orthonormal\n",
        "                                basis each column represents a basis vector\n",
        "\n",
        "  Returns:\n",
        "    Nothing.\n",
        "  \"\"\"\n",
        "\n",
        "  plt.figure(figsize=[4, 4])\n",
        "  plt.plot(X[:, 0], X[:, 1], '.', color=[.5, .5, .5], label='Data')\n",
        "  plt.axis('equal')\n",
        "  plt.xlabel('Neuron 1 activity')\n",
        "  plt.ylabel('Neuron 2 activity')\n",
        "  plt.plot([0, W[0, 0]], [0, W[1, 0]], color='r', linewidth=3,\n",
        "           label='Basis vector 1')\n",
        "  plt.plot([0, W[0, 1]], [0, W[1, 1]], color='b', linewidth=3,\n",
        "           label='Basis vector 2')\n",
        "  plt.legend()\n",
        "  plt.show()"
      ],
      "execution_count": null,
      "outputs": []
    },
    {
      "cell_type": "code",
      "metadata": {
        "id": "oShGQ4oAC88H"
      },
      "source": [
        ""
      ],
      "execution_count": null,
      "outputs": []
    },
    {
      "cell_type": "code",
      "metadata": {
        "id": "T1qz7PrTEP2B"
      },
      "source": [
        ""
      ],
      "execution_count": null,
      "outputs": []
    },
    {
      "cell_type": "code",
      "metadata": {
        "id": "jytvLRV2ESdv"
      },
      "source": [
        ""
      ],
      "execution_count": null,
      "outputs": []
    }
  ]
}